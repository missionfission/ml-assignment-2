{
 "cells": [
  {
   "cell_type": "markdown",
   "metadata": {},
   "source": [
    "1. Linear models \n",
    "\n",
    "2. Logistic models \n",
    "\n",
    "3. Perceptron\n",
    "\n",
    "4. FLDA \n",
    "\n",
    "5. Multi class discriminative models \n",
    "\n",
    "6. Support vector machines \n",
    "\n",
    "1. Medical Dataset:\n",
    "\tLinear Models : 1 vs. all \n",
    "\tLogistic Models : 1 vs. all\n",
    "\tMulti class discriminative models (logistic multiclass) (softmax)\n",
    "\tperceptron : 1 vs. all\n",
    "\tsvm\n",
    "\tFLDA\n",
    "\n",
    "2. Railway Dataset:\n",
    "\tLinear Models : 1 vs. all\n",
    "\tLogistic Models : 1 vs. all\n",
    "\tperceptron : 1 vs. all\n",
    "\tsvm\n",
    "\tFLDA\n",
    "\n",
    "3. FMINST: apply PCA\n",
    "\tLinear Models : 1 vs. all\n",
    "\tLogistic Models : 1 vs. all\n",
    "\tMulti class discriminative models (logistic multiclass) (softmax)\n",
    "\tperceptron : 1 vs. all\n",
    "\tsvm\n",
    "\tFLDA\n",
    "\n",
    "4. River Dataset:\n",
    "\tLinear Models with various kernels\n",
    "\tFLDA\n",
    "\n"
   ]
  },
  {
   "cell_type": "code",
   "execution_count": 2,
   "metadata": {
    "collapsed": true
   },
   "outputs": [],
   "source": [
    "import json\n",
    "import random\n",
    "import time\n",
    "import math\n",
    "from ast import literal_eval as make_tuple\n",
    "import numpy as np\n",
    "import pandas as pd\n",
    "# import psutil\n",
    "from utils import mnist_reader\n",
    "import pdb\n",
    "import matplotlib.pyplot as plt\n",
    "%matplotlib inline"
   ]
  },
  {
   "cell_type": "code",
   "execution_count": 3,
   "metadata": {},
   "outputs": [
    {
     "data": {
      "text/plain": [
       "{'divide': 'warn', 'invalid': 'warn', 'over': 'warn', 'under': 'ignore'}"
      ]
     },
     "execution_count": 3,
     "metadata": {},
     "output_type": "execute_result"
    }
   ],
   "source": [
    "np.seterr(divide='ignore', invalid='ignore')\n"
   ]
  },
  {
   "cell_type": "code",
   "execution_count": 4,
   "metadata": {
    "collapsed": true
   },
   "outputs": [],
   "source": [
    "class multivariate_normal:\n",
    "    def __init__(self,mean,cov):\n",
    "        self.mean=mean\n",
    "        self.cov=cov\n",
    "    def pdf(self,x):\n",
    "        return  (1/(np.power(2* np.pi,self.mean.shape[0]/2)*np.power(np.linalg.det(self.cov),0.5))) *np.exp (-0.5 * (np.linalg.multi_dot([(x - self.mean) , (np.linalg.inv(self.cov)), (x - self.mean).T])))\n",
    "    "
   ]
  },
  {
   "cell_type": "code",
   "execution_count": 5,
   "metadata": {
    "collapsed": true
   },
   "outputs": [],
   "source": [
    "def univariate_normal(x,mean,var):\n",
    "    return  (1/(np.power(2* np.pi*var,0.5))) * np.exp(-0.5 * np.array((x- mean)**2/var,dtype='float'))\n",
    "def distance(a, b):\n",
    "    return np.linalg.norm(a-b)"
   ]
  },
  {
   "cell_type": "code",
   "execution_count": 6,
   "metadata": {
    "collapsed": true
   },
   "outputs": [],
   "source": [
    "def binomial(test,prob,m):\n",
    "    return [np.power(prob,x)*np.power(prob,(m-x))*comb(m,x) for x in test]\n",
    "def comb(n,r):\n",
    "    f=math.factorial\n",
    "    return f(n)//f(r)//f(n-r)"
   ]
  },
  {
   "cell_type": "code",
   "execution_count": 12,
   "metadata": {},
   "outputs": [],
   "source": [
    "# For linear regression and Logistic \n",
    "def gradient_descent(x_train, y_train, num_iters, learning_rate, lamda, theta,sig=0):\n",
    "    X = np.array(x_train)\n",
    "    Y = np.array(y_train)\n",
    "    parameter = theta\n",
    "    while (num_iters > 0):\n",
    "        parameter = step_gradient(X, Y, learning_rate, parameter,lamda,sig)\n",
    "        num_iters -= 1\n",
    "    return parameter\n",
    "\n",
    "\n",
    "def step_gradient(X, Y, learning_rate, parameter,lamda,sig=0):\n",
    "    if(sig==0):\n",
    "        cost = (np.dot(X, parameter) - Y)\n",
    "    else : \n",
    "        cost = (sigmoid(np.dot(X, parameter)) - Y)\n",
    "    temp = np.dot(X.T, cost)\n",
    "    cost = np.linalg.norm(cost)\n",
    "    # print(cost)\n",
    "    parameter -= learning_rate * (1 / len(X)) * temp\n",
    "    return parameter"
   ]
  },
  {
   "cell_type": "code",
   "execution_count": 13,
   "metadata": {},
   "outputs": [],
   "source": [
    "# With Gradient Descent\n",
    "class Linear_GRD:         \n",
    "    \n",
    "    def fit(self,train,y_train,lr,num_iters=1000,lamda=0,*args,**kwargs):\n",
    "        self.theta = np.zeros((len(train[0]), len(y_train[0])), dtype=float)\n",
    "        self.theta = gradient_descent(train, y_train, num_iters, lr, self.theta,lamda)\n",
    "        \n",
    "    def predict(self,test,y_test):\n",
    "        predicted = np.dot(np.array(test), self.theta)\n",
    "        correct = 0\n",
    "        f_predicted = [None] * len(predicted)\n",
    "        for i in range(len(predicted)):\n",
    "            f_predicted[i] = np.argmax(predicted[i])\n",
    "            if (f_predicted[i] - y_test[i] < 0.5\n",
    "                    and f_predicted[i] - y_test[i] > -0.5):\n",
    "                correct += 1\n",
    "        acc=float(100 * correct / len(y_test))\n",
    "        return predicted, acc\n"
   ]
  },
  {
   "cell_type": "code",
   "execution_count": 16,
   "metadata": {},
   "outputs": [],
   "source": [
    "# With Ordinary Least Squares and lambda regularisation\n",
    "class Linear_OLS:         \n",
    "    \n",
    "    def fit(self,train,y_train,lr,num_iters=1000,lamda=0,*args,**kwargs):\n",
    "        self.theta =np.linalg.inv(np.dot(train.T, train))\n",
    "        self.theta = np.dot(self.theta+lamda, np.dot(train.T, y_train))\n",
    "        \n",
    "    def predict(self,test,y_test):\n",
    "        predicted = np.dot(np.array(test), self.theta)\n",
    "        correct = 0\n",
    "        f_predicted = [None] * len(predicted)\n",
    "        for i in range(len(predicted)):\n",
    "            f_predicted[i] = np.argmax(predicted[i])\n",
    "            if (f_predicted[i] - y_test[i] < 0.5\n",
    "                    and f_predicted[i] - y_test[i] > -0.5):\n",
    "                correct += 1\n",
    "        acc=float(100 * correct / len(y_test))\n",
    "        return predicted, acc\n"
   ]
  },
  {
   "cell_type": "code",
   "execution_count": 13,
   "metadata": {},
   "outputs": [],
   "source": [
    "class Logistic():\n",
    "    \n",
    "    def fit(self,train,y_train,lr,num_iters=1000,*args,**kwargs):\n",
    "        self.theta = np.zeros((len(train[0]), len(y_train[0])), dtype=float)\n",
    "        self.theta = gradient_descent(train, y_train, num_iters, lr, self.theta,1)\n",
    "    def predict(self,test,y_test):\n",
    "        predicted = np.dot(np.array(test), self.theta)\n",
    "        correct = 0\n",
    "        f_predicted = [None] * len(predicted)\n",
    "        for i in range(len(predicted)):\n",
    "            f_predicted[i] = np.argmax(predicted[i])\n",
    "            if (f_predicted[i] - y_test[i] < 0.5\n",
    "                    and f_predicted[i] - y_test[i] > -0.5):\n",
    "                correct += 1\n",
    "        acc=float(100 * correct / len(y_test))\n",
    "        return predicted, acc\n"
   ]
  },
  {
   "cell_type": "code",
   "execution_count": 14,
   "metadata": {},
   "outputs": [],
   "source": [
    "def sigmoid(x):\n",
    "    return 1 / (1 + np.exp(-x))\n"
   ]
  },
  {
   "cell_type": "code",
   "execution_count": 2,
   "metadata": {},
   "outputs": [],
   "source": [
    "def predict(data_row, row_label, wt, corr_class):\n",
    "    # data_row is n*1 and wt is n-1*1\n",
    "    # data_row contains actual value also\n",
    "    actual=row_label\n",
    "    # print(wt)\n",
    "    # print(data_row[:-1])\n",
    "    val=np.dot(np.transpose(data_row),wt)\n",
    "    # val=val1[0]\n",
    "    deltaw=np.zeros(len(data_row))\n",
    "    if((val>0 and actual==corr_class) or (val<0 and actual!=corr_class)):\n",
    "        deltaw=deltaw\n",
    "    elif(val<=0 and actual==corr_class):\n",
    "        deltaw=data_row\n",
    "    else:\n",
    "        deltaw=-data_row\n",
    "    wt=wt+deltaw\n",
    "    return wt\n",
    "\n",
    "def percept(train_data, train_label, wt, corr_class):\n",
    "    # print(len(train_data))\n",
    "    for i in range(len(train_data)):\n",
    "        # print(i)\n",
    "        wt=predict(train_data[i], train_label[i], wt, corr_class)\n",
    "    # acc_train=checker(train_data, wt, corr_class)\n",
    "    # print(\"training accuracy=\" + str(acc_train))\n",
    "    return wt\n",
    "\n",
    "def checker(test, test_label, wts, numclass):\n",
    "    stats=np.zeros([numclass, numclass])\n",
    "    val=np.zeros(numclass)\n",
    "    predicted=[]\n",
    "    for i in range(len(test)):        \n",
    "        actual=test_label[i]\n",
    "        for j in range(numclass):\n",
    "            val[j]=np.dot(np.transpose(test[i]),wts[j])\n",
    "        predicted.append(np.argmax(val))\n",
    "        stats[int(actual), int(predicted)]+=1\n",
    "    acc=np.trace(stats)/np.sum(stats)*100\n",
    "    return acc,predicted"
   ]
  },
  {
   "cell_type": "code",
   "execution_count": 3,
   "metadata": {},
   "outputs": [],
   "source": [
    "class Perceptron:   \n",
    "    def fit(self,train,y_train,numclass,numiter=100):\n",
    "        self.numclass=numclass\n",
    "        train_max=np.amax(train, axis=0)\n",
    "        for i in range(len(train)):\n",
    "            train[i]=np.divide(train[i], train_max)\n",
    "        test_max=np.amax(test, axis=0)\n",
    "        for i in range(len(test_data)):\n",
    "            test[i]=np.divide(test[i], test_max)\n",
    "\n",
    "        train_data=np.ones([len(train), len(train[0])+1])\n",
    "        for i in range(len(train_data)):\n",
    "            for j in range(len(train_data[0])):\n",
    "                train_data[i][j+1]=train_data[i][j]\n",
    "        train=train_data\n",
    "        test_data=np.ones([len(test), len(test[0])+1])\n",
    "        for i in range(len(test_data)):\n",
    "            for j in range(len(test[0])):\n",
    "                test_data[i][j+1]=test[i][j]\n",
    "        test=test_data\n",
    "\n",
    "        self.wts=np.zeros([numclass, len(train[0])])\n",
    "        for k in range(numclass):\n",
    "            for j in range(numiter):\n",
    "                # print(wt)\n",
    "                self.wts[k]=percept(train, y_train, self.wts[k], k)\n",
    "    def predict(self,test,y_test):\n",
    "        acc, predicted=checker(test, y_test,self.wts,self.numclass)\n",
    "\n",
    "        \n",
    "        "
   ]
  },
  {
   "cell_type": "code",
   "execution_count": 5,
   "metadata": {},
   "outputs": [],
   "source": [
    "class SVM():\n",
    "    \n",
    "    def __init__(self, max_iter=10000, kernel_type='linear', C=1.0, epsilon=0.001):\n",
    "        self.kernels = {\n",
    "            'linear' : self.kernel_linear,\n",
    "            'quadratic' : self.kernel_quadratic\n",
    "        }\n",
    "        self.max_iter = max_iter\n",
    "        self.kernel_type = kernel_type\n",
    "        self.C = C\n",
    "        self.epsilon = epsilon\n",
    "    def fit(self, X, y):\n",
    "        # n : number of samples (100)\n",
    "        n = X.shape[0]\n",
    "        \n",
    "        #we have alpha per sample of training set. Initially set to zeros\n",
    "        alpha = np.zeros((n))\n",
    "        \n",
    "        #pick the kernel user selected\n",
    "        kernel = self.kernels[self.kernel_type]\n",
    "        \n",
    "        \n",
    "        iteration = 0\n",
    "        while True:\n",
    "            iteration += 1\n",
    "            \n",
    "            #saving the copy of alpha from previous iteration\n",
    "            alpha_prev = np.copy(alpha)\n",
    "            \n",
    "            #going through all the samples in one iteration\n",
    "            for j in range(0, n):\n",
    "                \n",
    "                #selcting random sample index where i is not equal to j\n",
    "                i = self.get_rnd_int(0, n-1, j) # Get random int i~=j\n",
    "                \n",
    "                x_i = X[i,:]\n",
    "                x_j = X[j,:]\n",
    "                y_i = y[i]\n",
    "                y_j = y[j]\n",
    "                \n",
    "                k_ij = kernel(x_i, x_i) + kernel(x_j, x_j) - 2 * kernel(x_i, x_j)\n",
    "                \n",
    "                if k_ij == 0:\n",
    "                    continue\n",
    "                \n",
    "                #select alpha of i and j from the alpha array to calculate L and H\n",
    "                alpha_prime_j, alpha_prime_i = alpha[j], alpha[i]\n",
    "                (L, H) = self.compute_L_H(self.C, alpha_prime_j, alpha_prime_i, y_j, y_i)\n",
    "\n",
    "                # Compute model parameters\n",
    "                self.w = self.calc_w(alpha, y, X)\n",
    "                self.b = self.calc_b(X, y, self.w)\n",
    "\n",
    "                # Compute E_i, E_j\n",
    "                E_i = self.E(x_i, y_i, self.w, self.b)\n",
    "                E_j = self.E(x_j, y_j, self.w, self.b)\n",
    "\n",
    "                # Set new alpha values\n",
    "                alpha[j] = alpha_prime_j + float(y_j * (E_i - E_j))/k_ij\n",
    "                alpha[j] = max(alpha[j], L)\n",
    "                alpha[j] = min(alpha[j], H)\n",
    "\n",
    "                alpha[i] = alpha_prime_i + y_i*y_j * (alpha_prime_j - alpha[j])\n",
    "\n",
    "            # Terminating condition: reacing convergence\n",
    "            diff = np.linalg.norm(alpha - alpha_prev)\n",
    "            if diff < self.epsilon:\n",
    "                break\n",
    "\n",
    "            #Terminating condition: Reaching max iterations\n",
    "            if iteration >= self.max_iter:\n",
    "                print(\"Iteration number exceeded the max of %d iterations\" % (self.max_iter))\n",
    "                return\n",
    "            \n",
    "        # Compute final model parameters\n",
    "        self.b = self.calc_b(X, y, self.w)\n",
    "        if self.kernel_type == 'linear':\n",
    "            self.w = self.calc_w(alpha, y, X)\n",
    "            \n",
    "            \n",
    "    def predict(self, X):\n",
    "        return self.h(X, self.w, self.b)\n",
    "    \n",
    "    def calc_b(self, X, y, w):\n",
    "        b_tmp = y - np.dot(w.T, X.T)\n",
    "        return np.mean(b_tmp)\n",
    "    \n",
    "    def calc_w(self, alpha, y, X):\n",
    "        return np.dot(alpha * y, X)\n",
    "    \n",
    "    # Prediction\n",
    "    def h(self, X, w, b):\n",
    "        return np.sign(np.dot(w.T, X.T) + b).astype(int)\n",
    "    \n",
    "    # Prediction error\n",
    "    def E(self, x_k, y_k, w, b):\n",
    "        return self.h(x_k, w, b) - y_k\n",
    "    \n",
    "    def compute_L_H(self, C, alpha_prime_j, alpha_prime_i, y_j, y_i):\n",
    "        if(y_i != y_j):\n",
    "            return (max(0, alpha_prime_j - alpha_prime_i), min(C, C - alpha_prime_i + alpha_prime_j))\n",
    "        else:\n",
    "            return (max(0, alpha_prime_i + alpha_prime_j - C), min(C, alpha_prime_i + alpha_prime_j))\n",
    "        \n",
    "    def get_rnd_int(self, a,b,z):\n",
    "        i = z\n",
    "        cnt=0\n",
    "        while i == z and cnt<1000:\n",
    "            i = rnd.randint(a,b)\n",
    "            cnt=cnt+1\n",
    "        return i\n",
    "    \n",
    "    # Define kernels\n",
    "    def kernel_linear(self, x1, x2):\n",
    "        return np.dot(x1, x2.T)\n",
    "    def kernel_quadratic(self, x1, x2):\n",
    "        return (np.dot(x1, x2.T) ** 2)\n",
    "    \n",
    "    #Printing out the parameters of SVM\n",
    "    def print_info(self):\n",
    "        print(\"############ PRINT SVM INFO ################\")\n",
    "        print(\"C:\",self.C)\n",
    "        print(\"max_iter:\",self.max_iter)\n",
    "        print(\"epsilon:\",self.epsilon)\n",
    "        print(\"kernel_type:\",self.kernel_type)\n",
    "\n",
    "    def calc_acc(self,y, y_hat):\n",
    "    \n",
    "        correct_counter = 0\n",
    "        for i in range(0,len(y)):\n",
    "            if(y[i] == -1 and y_hat[i] == -1):\n",
    "                correct_counter = correct_counter + 1\n",
    "            if(y[i] == 1 and y_hat[i] == 1):\n",
    "                correct_counter = correct_counter + 1\n",
    "\n",
    "        return (correct_counter/len(y))\n",
    "\n",
    "\n",
    "    "
   ]
  },
  {
   "cell_type": "code",
   "execution_count": null,
   "metadata": {},
   "outputs": [],
   "source": [
    " def visualize():\n",
    "        [[self.ax.scatter(x[0],x[1],s=100,c=self.colors[i]) for x in data_dict[i]] for i in data_dict]\n",
    "        \n",
    "        # hyperplane = x.w+b (actually its a line)\n",
    "        # v = x0.w0+x1.w1+b -> x1 = (v-w[0].x[0]-b)/w1\n",
    "        #psv = 1     psv line ->  x.w+b = 1a small value of b we will increase it later\n",
    "        #nsv = -1    nsv line ->  x.w+b = -1\n",
    "        # dec = 0    db line  ->  x.w+b = 0\n",
    "        def hyperplane(x,w,b,v):\n",
    "            #returns a x2 value on line when given x1\n",
    "            return (-w[0]*x-b+v)/w[1]\n",
    "       \n",
    "        hyp_x_min= self.min_feature_value*0.9\n",
    "        hyp_x_max = self.max_feature_value*1.1\n",
    "        \n",
    "        # (w.x+b)=1\n",
    "        # positive support vector hyperplane\n",
    "        pav1 = hyperplane(hyp_x_min,self.w,self.b,1)\n",
    "        pav2 = hyperplane(hyp_x_max,self.w,self.b,1)\n",
    "        self.ax.plot([hyp_x_min,hyp_x_max],[pav1,pav2],'k')\n",
    "        \n",
    "        # (w.x+b)=-1\n",
    "        # negative support vector hyperplane\n",
    "        nav1 = hyperplane(hyp_x_min,self.w,self.b,-1)\n",
    "        nav2 = hyperplane(hyp_x_max,self.w,self.b,-1)\n",
    "        self.ax.plot([hyp_x_min,hyp_x_max],[nav1,nav2],'k')\n",
    "        \n",
    "        # (w.x+b)=0\n",
    "        # db support vector hyperplane\n",
    "        db1 = hyperplane(hyp_x_min,self.w,self.b,0)\n",
    "        db2 = hyperplane(hyp_x_max,self.w,self.b,0)\n",
    "        self.ax.plot([hyp_x_min,hyp_x_max],[db1,db2],'y--')"
   ]
  },
  {
   "cell_type": "code",
   "execution_count": 41,
   "metadata": {
    "collapsed": true
   },
   "outputs": [],
   "source": [
    "class FLDA():\n",
    "    def predict(self,test):\n",
    "        \n",
    "    def fit(self, train,y):\n",
    "        self.n_classes = np.max(y)+1\n",
    "        self.n_features=train.shape[1]\n",
    "      "
   ]
  },
  {
   "cell_type": "code",
   "execution_count": 41,
   "metadata": {
    "collapsed": true
   },
   "outputs": [],
   "source": [
    "class Mutilclass():\n",
    "    def predict(self,test):   \n",
    "        return \n",
    "        \n",
    "    def fit(self, train,y):\n",
    "        self.n_classes = np.max(y)+1\n",
    "       "
   ]
  },
  {
   "cell_type": "code",
   "execution_count": 10,
   "metadata": {
    "collapsed": true
   },
   "outputs": [],
   "source": [
    "class PCA:\n",
    "    def __init__(self,n_components,*args):\n",
    "        self.n=n_components\n",
    "    def fit_transform(self,X):\n",
    "        return self.fit(X)\n",
    "    def fit(self,copy):\n",
    "        X=copy\n",
    "        self.mean = np.mean(X, axis=0)\n",
    "        X = X-self.mean\n",
    "        C=np.cov(X.T)\n",
    "#         pdb.set_trace()\n",
    "        U, V=np.linalg.eig(C)\n",
    "        self.components=V\n",
    "        return np.dot(X,V)[:,:self.n]\n",
    "   \n",
    "    def transform(self,test):\n",
    "        output = np.dot(test-self.mean, self.components)\n",
    "        return output[:,:self.n]\n",
    "   \n",
    "        "
   ]
  },
  {
   "cell_type": "code",
   "execution_count": 18,
   "metadata": {
    "collapsed": true
   },
   "outputs": [],
   "source": [
    "from sklearn.preprocessing import label_binarize\n",
    "from sklearn.metrics import roc_curve\n",
    "from scipy import interp\n",
    "class metrics:\n",
    "    def accuracy(self,y,preds):\n",
    "        return np.sum(y==preds)/y.shape[0]\n",
    "    \n",
    "    def scores(self,y_true,y_pred):\n",
    "        tp =(y_true == y_pred)\n",
    "        tp_sum=np.bincount(y_true[tp].astype(int))\n",
    "        pred_sum=np.bincount(y_pred.astype(int))\n",
    "        true_sum=np.bincount(y_true.astype(int))\n",
    "        precision = tp_sum/pred_sum\n",
    "        recall = tp_sum/true_sum\n",
    "        f_score = ((2) * precision * recall /\n",
    "                   (precision + recall))\n",
    "        precision = np.average(precision)\n",
    "        recall = np.average(recall)\n",
    "        f_score = np.average(f_score)\n",
    "\n",
    "        return precision, recall, f_score\n",
    "    \n",
    "    def binary_roc_curve(self,y,probs,*args,**kwargs):\n",
    "        y = (y == 1)\n",
    "\n",
    "        desc_score_indices = np.argsort(probs)[::-1]\n",
    "        probs = probs[desc_score_indices]\n",
    "        y = y[desc_score_indices]\n",
    "        distinct_value_indices = np.where(np.diff(probs))[0]\n",
    "        threshold_idxs = np.r_[distinct_value_indices, y.size - 1]\n",
    "\n",
    "        tps = y[threshold_idxs]\n",
    "        fps = 1 + threshold_idxs - tps\n",
    "        thresholds=y[threshold_idxs]\n",
    "        optimal_idxs = np.where(np.r_[True,np.logical_or(np.diff(fps, 2),np.diff(tps, 2)),True])[0]\n",
    "        fps = fps[optimal_idxs]\n",
    "        tps = tps[optimal_idxs]\n",
    "        thresholds = thresholds[optimal_idxs]\n",
    "        print(fps,tps)\n",
    "        fpr = fps / fps[-1]\n",
    "        tpr = tps / tps[-1]\n",
    "\n",
    "        return fpr, tpr, thresholds    \n",
    "        \n",
    "    def multiclass_roc_curve(self,y,y_score,ax,label,*args,**kwargs):\n",
    "        n_classes=y.max()+1\n",
    "#         print(n_classes)\n",
    "        if(n_classes==2):\n",
    "            y_test = np.array([1-y,y]).T\n",
    "            print(y_test.shape)\n",
    "        else:\n",
    "            y_test = label_binarize(y, classes=np.arange(n_classes))\n",
    "#         print(y_test)\n",
    "        fpr = dict()\n",
    "        thresholds=dict()\n",
    "        tpr = dict()\n",
    "        roc_auc = dict()\n",
    "#         print(y_test.shape,y_score.shape)\n",
    "        for i in range(n_classes):\n",
    "            fpr[i], tpr[i], _ = roc_curve(y_test[:, i], y_score[:, i])\n",
    "        all_fpr = np.unique(np.concatenate([fpr[i] for i in range(n_classes)]))\n",
    "        mean_tpr = np.zeros_like(all_fpr)\n",
    "        for i in range(n_classes):\n",
    "            mean_tpr += interp(all_fpr, fpr[i], tpr[i])\n",
    "        mean_tpr /= n_classes\n",
    "        fpr[\"macro\"] = all_fpr\n",
    "        tpr[\"macro\"] = mean_tpr\n",
    "        ax.plot(fpr[\"macro\"], tpr[\"macro\"],label=label, linestyle=':', linewidth=4)\n"
   ]
  },
  {
   "cell_type": "code",
   "execution_count": 19,
   "metadata": {
    "collapsed": true
   },
   "outputs": [],
   "source": [
    "results=metrics()"
   ]
  },
  {
   "cell_type": "markdown",
   "metadata": {},
   "source": [
    "# FASHION-MNIST"
   ]
  },
  {
   "cell_type": "code",
   "execution_count": 8,
   "metadata": {
    "collapsed": true
   },
   "outputs": [],
   "source": [
    "DATA_DIR='data/fashion/'\n",
    "train, y_train = mnist_reader.load_mnist(path=DATA_DIR, kind='train')\n",
    "test, y_test = mnist_reader.load_mnist(path=DATA_DIR, kind='t10k')"
   ]
  },
  {
   "cell_type": "code",
   "execution_count": 11,
   "metadata": {},
   "outputs": [
    {
     "name": "stdout",
     "output_type": "stream",
     "text": [
      "(60000, 784)\n",
      "(60000, 2)\n"
     ]
    }
   ],
   "source": [
    "# from sklearn.decomposition import PCA\n",
    "print(train.shape)\n",
    "pca=PCA(n_components=2)\n",
    "train=pca.fit_transform(train)\n",
    "print(train.shape)\n",
    "test=pca.transform(test)"
   ]
  },
  {
   "cell_type": "code",
   "execution_count": 12,
   "metadata": {},
   "outputs": [
    {
     "name": "stdout",
     "output_type": "stream",
     "text": [
      "(10000, 2)\n"
     ]
    }
   ],
   "source": [
    "print(test.shape)"
   ]
  },
  {
   "cell_type": "code",
   "execution_count": 20,
   "metadata": {},
   "outputs": [
    {
     "data": {
      "image/png": "[encoded data removed]",
      "text/plain": [
       "<matplotlib.figure.Figure at 0x7f2965d9e390>"
      ]
     },
     "metadata": {},
     "output_type": "display_data"
    },
    {
     "data": {
      "image/png": "[encoded data removed]",
      "text/plain": [
       "<matplotlib.figure.Figure at 0x7f2965b24f98>"
      ]
     },
     "metadata": {},
     "output_type": "display_data"
    },
    {
     "data": {
      "image/png": "[encoded data removed]",
      "text/plain": [
       "<matplotlib.figure.Figure at 0x7f2965ae6b00>"
      ]
     },
     "metadata": {},
     "output_type": "display_data"
    },
    {
     "data": {
      "image/png": "[encoded data removed]",
      "text/plain": [
       "<matplotlib.figure.Figure at 0x7f2965aa85f8>"
      ]
     },
     "metadata": {},
     "output_type": "display_data"
    },
    {
     "data": {
      "image/png": "[encoded data removed]",
      "text/plain": [
       "<matplotlib.figure.Figure at 0x7f2965a6c0f0>"
      ]
     },
     "metadata": {},
     "output_type": "display_data"
    },
    {
     "data": {
      "image/png": "[encoded data removed]",
      "text/plain": [
       "<matplotlib.figure.Figure at 0x7f2965d45198>"
      ]
     },
     "metadata": {},
     "output_type": "display_data"
    },
    {
     "data": {
      "image/png": "[encoded data removed]",
      "text/plain": [
       "<matplotlib.figure.Figure at 0x7f2965d74240>"
      ]
     },
     "metadata": {},
     "output_type": "display_data"
    },
    {
     "data": {
      "image/png": "[encoded data removed]",
      "text/plain": [
       "<matplotlib.figure.Figure at 0x7f2965deba20>"
      ]
     },
     "metadata": {},
     "output_type": "display_data"
    },
    {
     "data": {
      "image/png": "[encoded data removed]",
      "text/plain": [
       "<matplotlib.figure.Figure at 0x7f29631a8668>"
      ]
     },
     "metadata": {},
     "output_type": "display_data"
    },
    {
     "data": {
      "image/png": "[encoded data removed]",
      "text/plain": [
       "<matplotlib.figure.Figure at 0x7f2963184b70>"
      ]
     },
     "metadata": {},
     "output_type": "display_data"
    }
   ],
   "source": [
    "\n",
    "for i in range(10):\n",
    "    fix,ax=plt.subplots()\n",
    "    ax.scatter(train[y_train==i,0],train[y_train==i,1],label=i)\n",
    "# ax.legend()"
   ]
  },
  {
   "cell_type": "code",
   "execution_count": 157,
   "metadata": {
    "scrolled": true
   },
   "outputs": [
    {
     "name": "stdout",
     "output_type": "stream",
     "text": [
      "[0.7591] [0.77198333]\n",
      "(0.7599586688621425, 0.7591, 0.7586774323618745)\n"
     ]
    }
   ],
   "source": [
    "clf = GaussianNB()\n",
    "clf.fit(train,y_train)\n",
    "preds_tr, probs_tr_gnb=clf.predict(train)\n",
    "preds, probs_gnb=clf.predict(test)\n",
    "acc_tr=np.sum(y_train==preds_tr)/y_train.shape\n",
    "acc=np.sum(y_test==preds)/y_test.shape\n",
    "print(acc,acc_tr)\n",
    "print(results.scores(y_test,preds))"
   ]
  },
  {
   "cell_type": "code",
   "execution_count": 158,
   "metadata": {},
   "outputs": [
    {
     "name": "stdout",
     "output_type": "stream",
     "text": [
      "[0.7985] [0.80108333]\n",
      "(0.8016677752883641, 0.7985, 0.7929446503371929)\n"
     ]
    }
   ],
   "source": [
    "clf = GaussianBayes()\n",
    "clf.fit(train,y_train)\n",
    "preds_tr, probs_tr_gb=clf.predict(train)\n",
    "preds, probs_gb=clf.predict(test)\n",
    "acc_tr=np.sum(y_train==preds_tr)/y_train.shape\n",
    "acc=np.sum(y_test==preds)/y_test.shape\n",
    "print(acc,acc_tr)\n",
    "print(results.scores(y_test,preds))"
   ]
  },
  {
   "cell_type": "code",
   "execution_count": 159,
   "metadata": {},
   "outputs": [
    {
     "data": {
      "text/plain": [
       "<matplotlib.legend.Legend at 0x7f423cad4898>"
      ]
     },
     "execution_count": 159,
     "metadata": {},
     "output_type": "execute_result"
    },
    {
     "data": {
      "image/png": "[encoded data removed]",
      "text/plain": [
       "<Figure size 432x288 with 1 Axes>"
      ]
     },
     "metadata": {},
     "output_type": "display_data"
    }
   ],
   "source": [
    "fig,ax=plt.subplots()\n",
    "ax.set_xlabel('False Positive Rate')\n",
    "ax.set_ylabel('True Positive Rate')\n",
    "ax.set_title('Receiver operating characteristic -multi-class')\n",
    "results.multiclass_roc_curve(y_test,probs_gb,ax,'gaussian bayes')\n",
    "results.multiclass_roc_curve(y_test,probs_knn,ax,'knn')\n",
    "results.multiclass_roc_curve(y_test,probs_kmeans,ax,'kmeans')\n",
    "results.multiclass_roc_curve(y_test,probs_gnb,ax,'gaussiannb')\n",
    "ax.legend(loc=\"lower right\")"
   ]
  },
  {
   "cell_type": "code",
   "execution_count": 160,
   "metadata": {
    "collapsed": true
   },
   "outputs": [],
   "source": [
    "fig.savefig('rocmnist')"
   ]
  },
  {
   "cell_type": "markdown",
   "metadata": {},
   "source": [
    "# MEDICAL DATA"
   ]
  },
  {
   "cell_type": "code",
   "execution_count": 75,
   "metadata": {
    "scrolled": true
   },
   "outputs": [
    {
     "name": "stdout",
     "output_type": "stream",
     "text": [
      "[['HEALTHY' 1.6315155608144196 -0.26444658130172355 2.534567146651425]\n",
      " ['SURGERY' 0.15395105426389907 1.419533481505174 1.3331207912724836]\n",
      " ['HEALTHY' 2.021729118164318 0.26204637889999405 2.8799717380508727]\n",
      " ...\n",
      " ['HEALTHY' 0.19320188275265227 0.36039894430698144 1.8676445668171464]\n",
      " ['HEALTHY' 1.6840959730399991 -0.02321819895892971 3.306257682435044]\n",
      " ['MEDICATION' 0.9752179047232428 2.305958926888452 0.22982688347681815]]\n",
      "(3000,)\n"
     ]
    },
    {
     "name": "stderr",
     "output_type": "stream",
     "text": [
      "/home/khushal/anaconda2/envs/dl/lib/python3.6/site-packages/ipykernel/__main__.py:2: FutureWarning: Method .as_matrix will be removed in a future version. Use .values instead.\n",
      "  from ipykernel import kernelapp as app\n"
     ]
    }
   ],
   "source": [
    "data = pd.read_csv('Medical_data.csv')\n",
    "X = data.as_matrix()\n",
    "print(X)\n",
    "y=np.empty(X.shape[0])\n",
    "for i in range(X.shape[0]):\n",
    "    if(X[i,0]=='HEALTHY'):\n",
    "        y[i]=0\n",
    "    if(X[i,0]=='SURGERY'):\n",
    "        y[i]=1\n",
    "    if(X[i,0]=='MEDICATION'):\n",
    "        y[i]=2\n",
    "print(y.shape)\n",
    "X = X[:,1:4]\n",
    "y=np.array(y,dtype='int')"
   ]
  },
  {
   "cell_type": "code",
   "execution_count": 76,
   "metadata": {},
   "outputs": [
    {
     "name": "stdout",
     "output_type": "stream",
     "text": [
      "(3000,)\n"
     ]
    },
    {
     "name": "stderr",
     "output_type": "stream",
     "text": [
      "/home/khushal/anaconda2/envs/dl/lib/python3.6/site-packages/ipykernel/__main__.py:2: FutureWarning: Method .as_matrix will be removed in a future version. Use .values instead.\n",
      "  from ipykernel import kernelapp as app\n"
     ]
    }
   ],
   "source": [
    "data_test = pd.read_csv('test_medical.csv')\n",
    "X_test = data_test.as_matrix()\n",
    "# print(X)\n",
    "y_test=np.empty(X_test.shape[0])\n",
    "for i in range(X_test.shape[0]):\n",
    "    if(X_test[i,0]=='HEALTHY'):\n",
    "        y_test[i]=0\n",
    "    if(X_test[i,0]=='SURGERY'):\n",
    "        y_test[i]=1\n",
    "    if(X_test[i,0]=='MEDICATION'):\n",
    "        y_test[i]=2\n",
    "print(y_test.shape)  \n",
    "X_test = X_test[:,1:4]\n",
    "y_test=np.array(y_test,dtype='int')"
   ]
  },
  {
   "cell_type": "code",
   "execution_count": 77,
   "metadata": {},
   "outputs": [
    {
     "name": "stdout",
     "output_type": "stream",
     "text": [
      "[0 1 0 ... 0 0 2]\n"
     ]
    }
   ],
   "source": [
    "train=X\n",
    "y_train=y\n",
    "test=X_test\n",
    "print(y_train)"
   ]
  },
  {
   "cell_type": "code",
   "execution_count": 78,
   "metadata": {},
   "outputs": [
    {
     "name": "stdout",
     "output_type": "stream",
     "text": [
      "(3000, 3) (3000,)\n"
     ]
    }
   ],
   "source": [
    "print(train.shape,y_train.shape)"
   ]
  },
  {
   "cell_type": "code",
   "execution_count": 3,
   "metadata": {},
   "outputs": [],
   "source": [
    "# X = np.array(train)\n",
    "# y = np.array(y_train)\n",
    "# label_dict = {1: 'HEALTHY', 2: 'MEDICATION', 3: 'SURGERY'}\n",
    "\n",
    "# fig, axes = plt.subplots(nrows=2, ncols=2, figsize=(12, 6))\n",
    "\n",
    "# for ax, cnt in zip(axes.ravel(), range(4)):\n",
    "\n",
    "#     min_b = math.floor(np.min(X[:, cnt]))\n",
    "#     max_b = math.ceil(np.max(X[:, cnt]))\n",
    "#     bins = np.linspace(min_b, max_b, 100)\n",
    "\n",
    "#     for lab, col in zip(range(1, 4), ('blue', 'red', 'green')):\n",
    "#         X_temp = []\n",
    "#         for i in range(len(X)):\n",
    "#             if ((y[i] - lab) == 0):\n",
    "#                 X_temp.append(X[i, cnt])\n",
    "#         ax.hist(\n",
    "#             X_temp,\n",
    "#             color=col,\n",
    "#             label='class %s' % label_dict[lab],\n",
    "#             bins=bins,\n",
    "#             alpha=0.5,\n",
    "#         )\n",
    "#     ylims = ax.get_ylim()\n",
    "\n",
    "#     leg = ax.legend(loc='upper right', fancybox=True, fontsize=8)\n",
    "#     leg.get_frame().set_alpha(0.5)\n",
    "#     ax.set_ylim([0, max(ylims) + 2])\n",
    "#     ax.set_xlabel('feature #%s' % str(cnt))\n",
    "\n",
    "#     ax.tick_params(\n",
    "#         axis=\"both\",\n",
    "#         which=\"both\",\n",
    "#         bottom=\"off\",\n",
    "#         top=\"off\",\n",
    "#         labelbottom=\"on\",\n",
    "#         left=\"off\",\n",
    "#         right=\"off\",\n",
    "#         labelleft=\"on\")\n",
    "\n",
    "#     ax.spines[\"top\"].set_visible(False)\n",
    "#     ax.spines[\"right\"].set_visible(False)\n",
    "#     ax.spines[\"bottom\"].set_visible(False)\n",
    "#     ax.spines[\"left\"].set_visible(False)\n",
    "\n",
    "# axes[0][0].set_ylabel('count')\n",
    "# axes[1][0].set_ylabel('count')\n",
    "\n",
    "# fig.tight_layout()\n",
    "\n",
    "# plt.show()\n"
   ]
  },
  {
   "cell_type": "code",
   "execution_count": 6,
   "metadata": {
    "collapsed": true,
    "scrolled": true
   },
   "outputs": [],
   "source": [
    "\n",
    "i=2\n",
    "acc_tr=[]\n",
    "acc=[]\n",
    "clf=GMMNB(i)\n",
    "clf.fit(train,y_train)\n",
    "preds_tr=clf.predict(train)\n",
    "preds=clf.predict(test)\n",
    "acc_tr.append(results.accuracy(y_train, preds_tr))\n",
    "acc.append(results.accuracy(y_test, preds))\n",
    "print(acc,acc_tr)\n",
    "print(results.scores(y_test,preds))"
   ]
  },
  {
   "cell_type": "code",
   "execution_count": 91,
   "metadata": {
    "collapsed": true
   },
   "outputs": [],
   "source": [
    "for i in range(len(probs_knn)):\n",
    "    while(probs_knn[i].shape[0]<3):\n",
    "        probs_knn[i]=np.append(probs_knn[i],[0.00])\n",
    "\n",
    "probs_knn=np.asarray(probs_knn)"
   ]
  },
  {
   "cell_type": "code",
   "execution_count": 93,
   "metadata": {},
   "outputs": [
    {
     "name": "stdout",
     "output_type": "stream",
     "text": [
      "3\n",
      "[[1 0 0]\n",
      " [1 0 0]\n",
      " [1 0 0]\n",
      " ...\n",
      " [1 0 0]\n",
      " [0 1 0]\n",
      " [0 0 1]]\n",
      "(3000, 3) (3000, 3)\n",
      "3\n",
      "[[1 0 0]\n",
      " [1 0 0]\n",
      " [1 0 0]\n",
      " ...\n",
      " [1 0 0]\n",
      " [0 1 0]\n",
      " [0 0 1]]\n",
      "(3000, 3) (3000, 3)\n",
      "3\n",
      "[[1 0 0]\n",
      " [1 0 0]\n",
      " [1 0 0]\n",
      " ...\n",
      " [1 0 0]\n",
      " [0 1 0]\n",
      " [0 0 1]]\n",
      "(3000, 3) (3000, 3)\n",
      "3\n",
      "[[1 0 0]\n",
      " [1 0 0]\n",
      " [1 0 0]\n",
      " ...\n",
      " [1 0 0]\n",
      " [0 1 0]\n",
      " [0 0 1]]\n",
      "(3000, 3) (3000, 3)\n"
     ]
    },
    {
     "data": {
      "text/plain": [
       "<matplotlib.legend.Legend at 0x7f4247aae0f0>"
      ]
     },
     "execution_count": 93,
     "metadata": {},
     "output_type": "execute_result"
    },
    {
     "data": {
      "image/png": "[encoded data removed]",
      "text/plain": [
       "<Figure size 432x288 with 1 Axes>"
      ]
     },
     "metadata": {},
     "output_type": "display_data"
    }
   ],
   "source": [
    "fig,ax=plt.subplots()\n",
    "ax.set_xlabel('False Positive Rate')\n",
    "ax.set_ylabel('True Positive Rate')\n",
    "ax.set_title('ROC Curves for Blood Test')\n",
    "results.multiclass_roc_curve(y_test,probs_gb,ax,'gaussian bayes')\n",
    "results.multiclass_roc_curve(y_test,np.asarray(probs_knn),ax,'knn')\n",
    "results.multiclass_roc_curve(y_test,probs_kmeans,ax,'kmeans')\n",
    "results.multiclass_roc_curve(y_test,probs_gnb,ax,'gaussiannb')\n",
    "ax.legend(loc=\"lower right\")"
   ]
  },
  {
   "cell_type": "code",
   "execution_count": 94,
   "metadata": {
    "collapsed": true
   },
   "outputs": [],
   "source": [
    "fig.savefig('rocmedical')"
   ]
  },
  {
   "cell_type": "markdown",
   "metadata": {},
   "source": [
    "# TRAIN SELECTION DATA"
   ]
  },
  {
   "cell_type": "code",
   "execution_count": 9,
   "metadata": {
    "collapsed": true
   },
   "outputs": [],
   "source": [
    "data = pd.read_csv('railwayBookingList.csv')"
   ]
  },
  {
   "cell_type": "code",
   "execution_count": 10,
   "metadata": {},
   "outputs": [
    {
     "name": "stdout",
     "output_type": "stream",
     "text": [
      "       caseID  boarded  budget  memberCount preferredClass     sex  age\n",
      "0   111131089        0    2201            0       FIRST_AC  female    2\n",
      "1  2489059216        0    1775            3       FIRST_AC    male    0\n",
      "2  1565109576        1    1775            3       FIRST_AC  female    0\n",
      "3  1373075087        1    1775            3       FIRST_AC    male    3\n",
      "4  1598041082        1    1775            3       FIRST_AC  female    2\n"
     ]
    }
   ],
   "source": [
    "print(data.head())"
   ]
  },
  {
   "cell_type": "code",
   "execution_count": 11,
   "metadata": {},
   "outputs": [
    {
     "name": "stderr",
     "output_type": "stream",
     "text": [
      "/home/khushal/anaconda3/lib/python3.6/site-packages/ipykernel_launcher.py:4: SettingWithCopyWarning: \n",
      "A value is trying to be set on a copy of a slice from a DataFrame\n",
      "\n",
      "See the caveats in the documentation: http://pandas.pydata.org/pandas-docs/stable/indexing.html#indexing-view-versus-copy\n",
      "  after removing the cwd from sys.path.\n"
     ]
    }
   ],
   "source": [
    "\n",
    "dict_class={'FIRST_AC':0,'SECOND_AC':1,'THIRD_AC':2,'NO_PREF':3}\n",
    "for i in range(data.shape[0]):\n",
    "    data['preferredClass'][i]=dict_class[data['preferredClass'][i]]\n",
    "    "
   ]
  },
  {
   "cell_type": "code",
   "execution_count": 40,
   "metadata": {},
   "outputs": [
    {
     "name": "stderr",
     "output_type": "stream",
     "text": [
      "/home/khushal/anaconda2/envs/dl/lib/python3.6/site-packages/ipykernel/__main__.py:1: SettingWithCopyWarning: \n",
      "A value is trying to be set on a copy of a slice from a DataFrame\n",
      "\n",
      "See the caveats in the documentation: http://pandas.pydata.org/pandas-docs/stable/indexing.html#indexing-view-versus-copy\n",
      "  if __name__ == '__main__':\n",
      "/home/khushal/anaconda2/envs/dl/lib/python3.6/site-packages/ipykernel/__main__.py:2: SettingWithCopyWarning: \n",
      "A value is trying to be set on a copy of a slice from a DataFrame\n",
      "\n",
      "See the caveats in the documentation: http://pandas.pydata.org/pandas-docs/stable/indexing.html#indexing-view-versus-copy\n",
      "  from ipykernel import kernelapp as app\n"
     ]
    }
   ],
   "source": [
    "data['sex'][(data['sex']=='male')]=0\n",
    "data['sex'][(data['sex']=='female')]=1"
   ]
  },
  {
   "cell_type": "code",
   "execution_count": 41,
   "metadata": {},
   "outputs": [
    {
     "name": "stderr",
     "output_type": "stream",
     "text": [
      "/home/khushal/anaconda2/envs/dl/lib/python3.6/site-packages/ipykernel/__main__.py:3: SettingWithCopyWarning: \n",
      "A value is trying to be set on a copy of a slice from a DataFrame\n",
      "\n",
      "See the caveats in the documentation: http://pandas.pydata.org/pandas-docs/stable/indexing.html#indexing-view-versus-copy\n",
      "  app.launch_new_instance()\n"
     ]
    }
   ],
   "source": [
    "sorted_b=np.sort(np.array(data['budget'].unique()))\n",
    "for x,i in enumerate(sorted_b):\n",
    "        data['budget'][data['budget']==i]=x"
   ]
  },
  {
   "cell_type": "code",
   "execution_count": 42,
   "metadata": {},
   "outputs": [
    {
     "data": {
      "text/html": [
       "<div>\n",
       "<style scoped>\n",
       "    .dataframe tbody tr th:only-of-type {\n",
       "        vertical-align: middle;\n",
       "    }\n",
       "\n",
       "    .dataframe tbody tr th {\n",
       "        vertical-align: top;\n",
       "    }\n",
       "\n",
       "    .dataframe thead th {\n",
       "        text-align: right;\n",
       "    }\n",
       "</style>\n",
       "<table border=\"1\" class=\"dataframe\">\n",
       "  <thead>\n",
       "    <tr style=\"text-align: right;\">\n",
       "      <th></th>\n",
       "      <th>caseID</th>\n",
       "      <th>boarded</th>\n",
       "      <th>budget</th>\n",
       "      <th>memberCount</th>\n",
       "      <th>preferredClass</th>\n",
       "      <th>sex</th>\n",
       "      <th>age</th>\n",
       "    </tr>\n",
       "  </thead>\n",
       "  <tbody>\n",
       "    <tr>\n",
       "      <th>0</th>\n",
       "      <td>111131089</td>\n",
       "      <td>0</td>\n",
       "      <td>17</td>\n",
       "      <td>0</td>\n",
       "      <td>0</td>\n",
       "      <td>1</td>\n",
       "      <td>2</td>\n",
       "    </tr>\n",
       "    <tr>\n",
       "      <th>1</th>\n",
       "      <td>2489059216</td>\n",
       "      <td>0</td>\n",
       "      <td>15</td>\n",
       "      <td>3</td>\n",
       "      <td>0</td>\n",
       "      <td>0</td>\n",
       "      <td>0</td>\n",
       "    </tr>\n",
       "    <tr>\n",
       "      <th>2</th>\n",
       "      <td>1565109576</td>\n",
       "      <td>1</td>\n",
       "      <td>15</td>\n",
       "      <td>3</td>\n",
       "      <td>0</td>\n",
       "      <td>1</td>\n",
       "      <td>0</td>\n",
       "    </tr>\n",
       "    <tr>\n",
       "      <th>3</th>\n",
       "      <td>1373075087</td>\n",
       "      <td>1</td>\n",
       "      <td>15</td>\n",
       "      <td>3</td>\n",
       "      <td>0</td>\n",
       "      <td>0</td>\n",
       "      <td>3</td>\n",
       "    </tr>\n",
       "    <tr>\n",
       "      <th>4</th>\n",
       "      <td>1598041082</td>\n",
       "      <td>1</td>\n",
       "      <td>15</td>\n",
       "      <td>3</td>\n",
       "      <td>0</td>\n",
       "      <td>1</td>\n",
       "      <td>2</td>\n",
       "    </tr>\n",
       "  </tbody>\n",
       "</table>\n",
       "</div>"
      ],
      "text/plain": [
       "       caseID  boarded  budget  memberCount preferredClass sex  age\n",
       "0   111131089        0      17            0              0   1    2\n",
       "1  2489059216        0      15            3              0   0    0\n",
       "2  1565109576        1      15            3              0   1    0\n",
       "3  1373075087        1      15            3              0   0    3\n",
       "4  1598041082        1      15            3              0   1    2"
      ]
     },
     "execution_count": 42,
     "metadata": {},
     "output_type": "execute_result"
    }
   ],
   "source": [
    "data.head()"
   ]
  },
  {
   "cell_type": "code",
   "execution_count": 43,
   "metadata": {},
   "outputs": [
    {
     "name": "stdout",
     "output_type": "stream",
     "text": [
      "(1309, 5)\n"
     ]
    },
    {
     "name": "stderr",
     "output_type": "stream",
     "text": [
      "/home/khushal/anaconda2/envs/dl/lib/python3.6/site-packages/ipykernel/__main__.py:2: FutureWarning: Method .as_matrix will be removed in a future version. Use .values instead.\n",
      "  from ipykernel import kernelapp as app\n"
     ]
    }
   ],
   "source": [
    "y=data['boarded']\n",
    "X = data.as_matrix()\n",
    "X=X[:-1,2:]\n",
    "y=y[:-1]\n",
    "y=np.array(y)\n",
    "print(X.shape)"
   ]
  },
  {
   "cell_type": "code",
   "execution_count": 44,
   "metadata": {
    "collapsed": true
   },
   "outputs": [],
   "source": [
    "from sklearn.model_selection import StratifiedShuffleSplit\n",
    "sss = StratifiedShuffleSplit(n_splits=1, test_size=0.2)\n",
    "sss.get_n_splits(X, y)\n",
    "for train_index, test_index in sss.split(X, y):\n",
    "    train, y_train = X[train_index], y[train_index]\n",
    "    test, y_test = X[test_index], y[test_index]"
   ]
  },
  {
   "cell_type": "code",
   "execution_count": 45,
   "metadata": {
    "collapsed": true
   },
   "outputs": [],
   "source": [
    "y_train=np.array(y_train)\n",
    "train=np.array(train)\n",
    "test=np.array(test)\n",
    "y_test=np.array(y_test)\n"
   ]
  },
  {
   "cell_type": "code",
   "execution_count": 24,
   "metadata": {
    "collapsed": true
   },
   "outputs": [],
   "source": [
    "# fig,ax=plt.subplots()\n",
    "# ax.scatter(list(x),acc_tr,label='Train Accuracy')\n",
    "# ax.scatter(list(x),acc,color='r',label='Validation Accuracy')\n",
    "# ax.legend(loc='lower right')\n",
    "# print(train.shape)\n",
    "# fig.savefig('kmeanstrs.png')"
   ]
  },
  {
   "cell_type": "code",
   "execution_count": 23,
   "metadata": {
    "collapsed": true
   },
   "outputs": [],
   "source": [
    "# fig,ax=plt.subplots()\n",
    "# ax.scatter(list(x),acc_tr,label='Train Accuracy')\n",
    "# ax.scatter(list(x),acc,color='r',label='Validation Accuracy')\n",
    "# ax.legend(loc='upper right')\n",
    "# # fig.savefig('knntrs.png')"
   ]
  },
  {
   "cell_type": "code",
   "execution_count": 21,
   "metadata": {
    "collapsed": true
   },
   "outputs": [],
   "source": [
    "# n_class=y_train.max()+1\n",
    "# for j in range(n_class):\n",
    "#     fig,ax=plt.subplots()\n",
    "#     for i in range(train.shape[1]):\n",
    "#         ax.hist(list(train[(y_train==j),i]))\n",
    "#     fig.savefig('train_selection_class_cond'+str(j)+'.png')"
   ]
  },
  {
   "cell_type": "code",
   "execution_count": 51,
   "metadata": {
    "collapsed": true
   },
   "outputs": [],
   "source": [
    "# print(acc,acc_tr)\n",
    "# print(results.scores(y_test,preds))"
   ]
  },
  {
   "cell_type": "code",
   "execution_count": 137,
   "metadata": {},
   "outputs": [
    {
     "name": "stdout",
     "output_type": "stream",
     "text": [
      "(262,) (262, 2)\n",
      "(262, 2)\n",
      "(262, 2)\n",
      "(262, 2)\n",
      "(262, 2)\n"
     ]
    },
    {
     "data": {
      "text/plain": [
       "<matplotlib.legend.Legend at 0x7f42476810f0>"
      ]
     },
     "execution_count": 137,
     "metadata": {},
     "output_type": "execute_result"
    },
    {
     "data": {
      "image/png": "[encoded data removed]",
      "text/plain": [
       "<Figure size 432x288 with 1 Axes>"
      ]
     },
     "metadata": {},
     "output_type": "display_data"
    }
   ],
   "source": [
    "fig,ax=plt.subplots()\n",
    "ax.set_xlabel('False Positive Rate')\n",
    "ax.set_ylabel('True Positive Rate')\n",
    "ax.set_title('Receiver operating characteristic -multi-class')\n",
    "print(y_test.shape,probs_gb.shape)\n",
    "results.multiclass_roc_curve(y_test,probs_gb,ax,'gaussian bayes')\n",
    "results.multiclass_roc_curve(y_test,probs_knn,ax,'knn')\n",
    "results.multiclass_roc_curve(y_test,probs_kmeans,ax,'kmeans')\n",
    "results.multiclass_roc_curve(y_test,probs_gnb,ax,'gaussiannb')\n",
    "# # results.multiclass_roc_curve(y_test,probs_bnb,ax,'binomial plus gaussian')\n",
    "ax.legend(loc=\"lower right\")"
   ]
  },
  {
   "cell_type": "markdown",
   "metadata": {},
   "source": [
    "# RIVER DATA"
   ]
  },
  {
   "cell_type": "code",
   "execution_count": 12,
   "metadata": {
    "collapsed": true
   },
   "outputs": [],
   "source": [
    "data = pd.read_csv('Assignment2_river_data.csv')"
   ]
  },
  {
   "cell_type": "code",
   "execution_count": 13,
   "metadata": {},
   "outputs": [
    {
     "name": "stdout",
     "output_type": "stream",
     "text": [
      "           x     Levels\n",
      "0  44.596425  21.925297\n",
      "1  89.657299  18.455560\n",
      "2  53.191569  22.919871\n",
      "3  30.698490  17.192925\n",
      "4  46.622882  22.349338\n"
     ]
    }
   ],
   "source": [
    "print(data.head())"
   ]
  },
  {
   "cell_type": "code",
   "execution_count": 14,
   "metadata": {},
   "outputs": [
    {
     "data": {
      "text/html": [
       "<div>\n",
       "<style>\n",
       "    .dataframe thead tr:only-child th {\n",
       "        text-align: right;\n",
       "    }\n",
       "\n",
       "    .dataframe thead th {\n",
       "        text-align: left;\n",
       "    }\n",
       "\n",
       "    .dataframe tbody tr th {\n",
       "        vertical-align: top;\n",
       "    }\n",
       "</style>\n",
       "<table border=\"1\" class=\"dataframe\">\n",
       "  <thead>\n",
       "    <tr style=\"text-align: right;\">\n",
       "      <th></th>\n",
       "      <th>x</th>\n",
       "      <th>Levels</th>\n",
       "    </tr>\n",
       "  </thead>\n",
       "  <tbody>\n",
       "    <tr>\n",
       "      <th>0</th>\n",
       "      <td>44.596425</td>\n",
       "      <td>21.925297</td>\n",
       "    </tr>\n",
       "    <tr>\n",
       "      <th>1</th>\n",
       "      <td>89.657299</td>\n",
       "      <td>18.455560</td>\n",
       "    </tr>\n",
       "    <tr>\n",
       "      <th>2</th>\n",
       "      <td>53.191569</td>\n",
       "      <td>22.919871</td>\n",
       "    </tr>\n",
       "    <tr>\n",
       "      <th>3</th>\n",
       "      <td>30.698490</td>\n",
       "      <td>17.192925</td>\n",
       "    </tr>\n",
       "    <tr>\n",
       "      <th>4</th>\n",
       "      <td>46.622882</td>\n",
       "      <td>22.349338</td>\n",
       "    </tr>\n",
       "  </tbody>\n",
       "</table>\n",
       "</div>"
      ],
      "text/plain": [
       "           x     Levels\n",
       "0  44.596425  21.925297\n",
       "1  89.657299  18.455560\n",
       "2  53.191569  22.919871\n",
       "3  30.698490  17.192925\n",
       "4  46.622882  22.349338"
      ]
     },
     "execution_count": 14,
     "metadata": {},
     "output_type": "execute_result"
    }
   ],
   "source": [
    "data.head()"
   ]
  },
  {
   "cell_type": "code",
   "execution_count": 15,
   "metadata": {
    "collapsed": true
   },
   "outputs": [],
   "source": [
    "X=data['x']\n",
    "y=data['Levels']"
   ]
  },
  {
   "cell_type": "code",
   "execution_count": 16,
   "metadata": {},
   "outputs": [
    {
     "name": "stdout",
     "output_type": "stream",
     "text": [
      "(10000,)\n"
     ]
    }
   ],
   "source": [
    "print(y.shape)"
   ]
  },
  {
   "cell_type": "code",
   "execution_count": 18,
   "metadata": {
    "collapsed": true
   },
   "outputs": [],
   "source": [
    "# train_index=np.random.randint()\n",
    "# from sklearn.model_selection import StratifiedShuffleSplit\n",
    "# sss = StratifiedShuffleSplit(n_splits=1, test_size=0.2)\n",
    "# sss.get_n_splits(X, y)\n",
    "# for train_index, test_index in sss.split(X, y):\n",
    "#     train, y_train = X[train_index], y[train_index]\n",
    "#     test, y_test = X[test_index], y[test_index]"
   ]
  },
  {
   "cell_type": "code",
   "execution_count": 28,
   "metadata": {
    "collapsed": true
   },
   "outputs": [],
   "source": [
    "# y_train=np.array(y_train)\n",
    "# train=np.array(train)\n",
    "# test=np.array(test)\n",
    "# y_test=np.array(y_test)\n"
   ]
  },
  {
   "cell_type": "code",
   "execution_count": 24,
   "metadata": {
    "collapsed": true
   },
   "outputs": [],
   "source": [
    "# fig,ax=plt.subplots()\n",
    "# ax.scatter(list(x),acc_tr,label='Train Accuracy')\n",
    "# ax.scatter(list(x),acc,color='r',label='Validation Accuracy')\n",
    "# ax.legend(loc='lower right')\n",
    "# print(train.shape)\n",
    "# fig.savefig('linearriver.png')"
   ]
  },
  {
   "cell_type": "code",
   "execution_count": 21,
   "metadata": {
    "collapsed": true
   },
   "outputs": [],
   "source": [
    "# n_class=y_train.max()+1\n",
    "# for j in range(n_class):\n",
    "#     fig,ax=plt.subplots()\n",
    "#     for i in range(train.shape[1]):\n",
    "#         ax.hist(list(train[(y_train==j),i]))\n",
    "#     fig.savefig('train_selection_class_cond'+str(j)+'.png')"
   ]
  },
  {
   "cell_type": "code",
   "execution_count": 51,
   "metadata": {
    "collapsed": true
   },
   "outputs": [],
   "source": [
    "# print(acc,acc_tr)\n",
    "# print(results.scores(y_test,preds))"
   ]
  },
  {
   "cell_type": "code",
   "execution_count": 137,
   "metadata": {},
   "outputs": [
    {
     "name": "stdout",
     "output_type": "stream",
     "text": [
      "(262,) (262, 2)\n",
      "(262, 2)\n",
      "(262, 2)\n",
      "(262, 2)\n",
      "(262, 2)\n"
     ]
    },
    {
     "data": {
      "text/plain": [
       "<matplotlib.legend.Legend at 0x7f42476810f0>"
      ]
     },
     "execution_count": 137,
     "metadata": {},
     "output_type": "execute_result"
    },
    {
     "data": {
      "image/png": "[encoded data removed]",
      "text/plain": [
       "<Figure size 432x288 with 1 Axes>"
      ]
     },
     "metadata": {},
     "output_type": "display_data"
    }
   ],
   "source": [
    "fig,ax=plt.subplots()\n",
    "ax.set_xlabel('False Positive Rate')\n",
    "ax.set_ylabel('True Positive Rate')\n",
    "ax.set_title('Receiver operating characteristic -multi-class')\n",
    "print(y_test.shape,probs_gb.shape)\n",
    "results.multiclass_roc_curve(y_test,probs_gb,ax,'gaussian bayes')\n",
    "results.multiclass_roc_curve(y_test,probs_knn,ax,'knn')\n",
    "results.multiclass_roc_curve(y_test,probs_kmeans,ax,'kmeans')\n",
    "results.multiclass_roc_curve(y_test,probs_gnb,ax,'gaussiannb')\n",
    "# # results.multiclass_roc_curve(y_test,probs_bnb,ax,'binomial plus gaussian')\n",
    "ax.legend(loc=\"lower right\")"
   ]
  },
  {
   "cell_type": "code",
   "execution_count": 138,
   "metadata": {
    "collapsed": true
   },
   "outputs": [],
   "source": [
    "fig.savefig('roctrs')"
   ]
  },
  {
   "cell_type": "markdown",
   "metadata": {},
   "source": [
    "# FINAL RESULTS"
   ]
  },
  {
   "cell_type": "markdown",
   "metadata": {},
   "source": [
    "|Dataset| Classifier  |   Parameter | Accuracy |Precision | Recall | F1-score |\n",
    "|--------|:-------:|-----|-------|------|-------|-------|\n",
    "|Medical Data|KNeighbours|9| 89.5| 89.85|89.5| 89.57| \n",
    "|Medical Data|Gaussian Bayes|-|89.76 |89.95 |89.76| 89.81| \n",
    "|Medical Data|Gaussian Mixture Model Naive Bayes|2| 89.86| 90.00|89.86| 89.90| \n",
    "|Medical Data|Gaussian NB|-| 89.86| 90.00|89.86| 89.90|  \n",
    "|Medical Data|KMeans|50| 86.93| 87.91|86.93| 86.95| \n",
    "|Medical Data|Parzen Window|| 90.1| 89.6|89.7| 89.3| \n",
    "|Train Selection Data|KNeighbours|7| 77.48| 76.20|75.66| 75.90| \n",
    "|Train Selection Data|Gaussian Bayes|-| 80.53|79.51 |78.9|79.17 | \n",
    "|Train Selection Data|Gaussian NB|-| 80.53|79.36 |79.47|79.41 | \n",
    "|Train Selection Data|Bionomial NB||38.16 | 381.6|80.86| 51.2| \n",
    "|Train Selection Data|KMeans|300| 71.75| 71.87 | 71.75| 71.46| \n",
    "|Train Selection Data|KMeans|300| 71.75| 71.87 | 71.75| 71.46| \n",
    "|Train Selection Data|Parzen Window|| 75.1|74.7|74.9| 74.85| \n",
    "|Fashion-MNIST|KNeighbours|9| 85.3|85.336 |85.3| 85.24| \n",
    "|Fashion-MNIST|Gaussian Bayes|-| 79.85|80.16 |79.85| 79.29| \n",
    "|Fashion-MNIST|Gaussian NB|-|75.91 |76 |75.9| 75.86| \n",
    "|Fashion-MNIST|KMeans|150| 75.16|74.82 |75.16| 74.73|\n",
    "|Fashion-MNIST|KMeans|150| 75.16|74.82 |75.16| 74.73|"
   ]
  },
  {
   "cell_type": "markdown",
   "metadata": {},
   "source": [
    "|Dataset| Classifier|Parameter|Accuracy|Precision|Recall|F1-score|\n",
    "|--------|-------|-----|-------|------|-------|-------|\n",
    "|Medical Data|Linear Models|9| 85.3|85.336 |85.3| 85.24| \n",
    "|Medical Data|Logistic Regression|-| 79.85|80.16 |79.85| 79.29| \n",
    "|Medical Data|SVM|-|75.91 |76 |75.9| 75.86| \n",
    "|Medical Data|Multi Class Discriminative Model|150| 75.16|74.82 |75.16| 74.73|\n",
    "|Medical Data|FLDA|9| 89.5| 89.85|89.5| 89.57| \n",
    "|Medical Data|Perceptron|9| 89.5| 89.85|89.5| 89.57| \n",
    "|Train Selection Data|Linear Models|9| 85.3|85.336 |85.3| 85.24| \n",
    "|Train Selection Data|Logistic Regression|-| 79.85|80.16 |79.85| 79.29| \n",
    "|Train Selection Data|SVM|-|75.91 |76 |75.9| 75.86| \n",
    "|Train Selection Data|Multi Class Discriminative Model|150| 75.16|74.82 |75.16| 74.73|\n",
    "|Train Selection Data|FLDA|9| 89.5| 89.85|89.5| 89.57| \n",
    "|Train Selection Data|Perceptron|9| 89.5| 89.85|89.5| 89.57| \n",
    "|Fashion-MNIST|Linear Models|9| 85.3|85.336 |85.3| 85.24| \n",
    "|Fashion-MNIST|Logistic Regression|-| 79.85|80.16 |79.85| 79.29| \n",
    "|Fashion-MNIST|SVM|-|75.91 |76 |75.9| 75.86| \n",
    "|Fashion-MNIST|Multi Class Discriminative Model|150| 75.16|74.82 |75.16| 74.73|\n",
    "|Fashion-MNIST|FLDA|9| 89.5| 89.85|89.5| 89.57| \n",
    "|Fashion-MNIST|Perceptron|9| 89.5| 89.85|89.5| 89.57| \n",
    "|River Data|Linear Models|9| 85.3|85.336 |85.3| 85.24| \n",
    "|River Data|Logistic Regression|-| 79.85|80.16 |79.85| 79.29| \n",
    "|River Data|SVM|-|75.91 |76 |75.9| 75.86| \n",
    "|River Data|Multi Class Discriminative Model|150| 75.16|74.82 |75.16| 74.73|\n",
    "|River Data|FLDA|9| 89.5| 89.85|89.5| 89.57| \n",
    "|River Data|Perceptron|9| 89.5| 89.85|89.5| 89.57| "
   ]
  },
  {
   "cell_type": "code",
   "execution_count": null,
   "metadata": {},
   "outputs": [],
   "source": []
  }
 ],
 "metadata": {
  "kernelspec": {
   "display_name": "Python 3",
   "language": "python",
   "name": "python3"
  },
  "language_info": {
   "codemirror_mode": {
    "name": "ipython",
    "version": 3
   },
   "file_extension": ".py",
   "mimetype": "text/x-python",
   "name": "python",
   "nbconvert_exporter": "python",
   "pygments_lexer": "ipython3",
   "version": "3.6.4"
  }
 },
 "nbformat": 4,
 "nbformat_minor": 2
}
