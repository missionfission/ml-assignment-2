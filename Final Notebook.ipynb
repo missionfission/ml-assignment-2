{
 "cells": [
  {
   "cell_type": "markdown",
   "metadata": {},
   "source": [
    "1. Bayes Classifier (Gaussian with MLE Estimate)\n",
    "2. Naive Bayes Classifier (Gaussian, Binomial and GMM with MLE Estimate)\n",
    "3. K-means Clustering\n",
    "4. K-Nearest Neighbor Classifier\n",
    "5. Principal component analysis \n"
   ]
  },
  {
   "cell_type": "markdown",
   "metadata": {},
   "source": [
    " ## Bayes Methods Implemented :\n",
    "\n",
    "1. MLE - Done with Gaussian \n",
    "2. Expectation Maximization with GMM \n",
    " \n",
    "## Densities implemented :\n",
    "1. GMM\n",
    "2. Gaussian\n",
    "3. Binomial "
   ]
  },
  {
   "cell_type": "code",
   "execution_count": 10,
   "metadata": {},
   "outputs": [],
   "source": [
    "import json\n",
    "import random\n",
    "import time\n",
    "import math\n",
    "from ast import literal_eval as make_tuple\n",
    "import numpy as np\n",
    "import pandas as pd\n",
    "import psutil\n",
    "from utils import mnist_reader\n",
    "import pdb\n",
    "import matplotlib.pyplot as plt\n",
    "%matplotlib inline"
   ]
  },
  {
   "cell_type": "code",
   "execution_count": 35,
   "metadata": {},
   "outputs": [
    {
     "data": {
      "text/plain": [
       "{'divide': 'warn', 'invalid': 'warn', 'over': 'warn', 'under': 'ignore'}"
      ]
     },
     "execution_count": 35,
     "metadata": {},
     "output_type": "execute_result"
    }
   ],
   "source": [
    "np.seterr(divide='ignore', invalid='ignore')\n"
   ]
  },
  {
   "cell_type": "code",
   "execution_count": 54,
   "metadata": {},
   "outputs": [],
   "source": [
    "class multivariate_normal:\n",
    "    def __init__(self,mean,cov):\n",
    "        self.mean=mean\n",
    "        self.cov=cov\n",
    "    def pdf(self,x):\n",
    "        return  (1/(np.power(2* np.pi,self.mean.shape[0]/2)*np.power(np.linalg.det(self.cov),0.5))) *np.exp (-0.5 * (np.linalg.multi_dot([(x - self.mean) , (np.linalg.inv(self.cov)), (x - self.mean).T])))\n",
    "    "
   ]
  },
  {
   "cell_type": "code",
   "execution_count": 55,
   "metadata": {},
   "outputs": [],
   "source": [
    "def univariate_normal(x,mean,var):\n",
    "    return  (1/(np.power(2* np.pi*var,0.5))) * np.exp(-0.5 * np.array((x- mean)**2/var,dtype='float'))\n",
    "def distance(a, b):\n",
    "    return np.linalg.norm(a-b)"
   ]
  },
  {
   "cell_type": "code",
   "execution_count": 56,
   "metadata": {},
   "outputs": [],
   "source": [
    "def binomial(test,prob,m):\n",
    "    return [np.power(prob,x)*np.power(prob,(m-x))*comb(m,x) for x in test]\n",
    "def comb(n,r):\n",
    "    f=math.factorial\n",
    "    return f(n)//f(r)//f(n-r)"
   ]
  },
  {
   "cell_type": "code",
   "execution_count": 39,
   "metadata": {},
   "outputs": [],
   "source": [
    "#Bayes Gaussian with MLE Estimate    \n",
    "class GaussianBayes:         \n",
    "    def predict(self,test):\n",
    "        prob_vect = np.zeros((self.n_classes,test.shape[0]))\n",
    "        for i in range(self.n_classes):        \n",
    "            class_cond = multivariate_normal(self.mean[i,:],self.cov[i,:])\n",
    "            prior=self.prior[i]         \n",
    "            for j in range(test.shape[0]):\n",
    "                prob_vect[i,j] = prior*class_cond.pdf(test[j])       \n",
    "        return np.argmax(prob_vect,axis=0), prob_vect.T\n",
    "    def fit(self, train,y):\n",
    "        self.mean = []\n",
    "        self.cov = []\n",
    "        self.n_classes = np.max(y)+1\n",
    "        self.prior = np.zeros(self.n_classes) \n",
    "        for i in range(self.n_classes):\n",
    "            tr_c  = train[y==i]\n",
    "            self.prior[i]=tr_c.shape[0]/train.shape[0]\n",
    "            mean_c = np.mean(tr_c, axis=0)\n",
    "            cov_c=np.cov(tr_c.T.astype(float))\n",
    "            self.mean.append(mean_c)\n",
    "            self.cov.append(cov_c)\n",
    "        self.mean = np.asarray(self.mean)\n",
    "        self.cov = np.asarray(self.cov)        "
   ]
  },
  {
   "cell_type": "code",
   "execution_count": 83,
   "metadata": {},
   "outputs": [],
   "source": [
    "#Naive Bayes Implementation of GMM with EM Algorithm\n",
    "class GMM():\n",
    "    def __init__(self,mode):\n",
    "        mean=np.zeros(mode)\n",
    "        var=np.zeros(mode)\n",
    "        ltv = np.identity(ltv)\n",
    "       \n",
    "        params={'mean':mean,'var':var,'ltv':ltv}\n",
    "        self.mode=mode\n",
    "\n",
    "        self.params=params\n",
    "        \n",
    "    def fit(self, train,y,iter_n=1000,*args):\n",
    "        iterations=0\n",
    "        w=np.random.randn((self.mode,train.shape[0]))\n",
    "        self.w=w\n",
    "        while (iterations<iter_n):\n",
    "            # E-step \n",
    "            w_old = w_new\n",
    "            self.computew(train)\n",
    "            # new params mean, variance and latent variables\n",
    "            # M-step \n",
    "            self.updateparams(train)   \n",
    "            iterations+=1\n",
    "            \n",
    "    \n",
    "    def computew(self,train):\n",
    "        for i in range(self.k):\n",
    "            self.w[k,:]=self.pdf(train,self.params['mean'][k],self.params['var'][k],self.params['ltv'][k])\n",
    "        self.w=self.w/np.sum(self.w,axis=0)\n",
    "    \n",
    "    def updateparams(self,train):\n",
    "        p = np.mean(self.w,axis = 0)\n",
    "        for i in range(k):\n",
    "            self.params['mean'][i]=np.dot(train, self.w[i])/(p[i])\n",
    "            self.params['var'][i]=np.dot(self.w[i],(train-self.params['mean'][i])^2)/p[i]\n",
    "        self.params['ltv']=np.mean(self.w,axis=0)\n",
    "        \n",
    "    def pdf(self,test,mean,var,w):\n",
    "        sum1=0\n",
    "        for i in range(self.mode):\n",
    "            sum1+=w[k]*(1/(np.power(2* np.pi*var[k],0.5))) * np.exp(-0.5 * np.array((x- mean[k])**2/var,dtype='float'))  \n",
    "        return sum1\n",
    "    def pdf2(self,test,mean,var,w):\n",
    "           \n",
    "        return  w*(1/(np.power(2* np.pi*var,0.5))) * np.exp(-0.5 * np.array((x- mean)**2/var,dtype='float')) "
   ]
  },
  {
   "cell_type": "code",
   "execution_count": 84,
   "metadata": {},
   "outputs": [],
   "source": [
    "class GMMNB:       \n",
    "    def predict(self,test):\n",
    "        prob_vect = np.zeros((self.n_classes,test.shape[0]))\n",
    "        for i in range(self.n_classes):\n",
    "            class_cond=1\n",
    "            for j in range(self.n_features):\n",
    "                class_cond = class_cond*GMM.pdf(test[:,j],self.mean[i,j], self.var[i,j])\n",
    "            prior=self.prior[i]         \n",
    "            prob_vect[i,:] = prior*class_cond\n",
    "        print(np.argmax(prob_vect,axis=0).shape)\n",
    "        return np.argmax(prob_vect,axis=0), prob_vect.T\n",
    "        \n",
    "    def fit(self, train,y,k):\n",
    "        self.n_classes = np.max(y)+1\n",
    "        self.prior = np.zeros(self.n_classes) \n",
    "        self.n_features=train.shape[1]\n",
    "        self.mean = np.zeros((self.n_classes,self.n_features,k))\n",
    "        self.var = np.zeros((self.n_classes,self.n_features,k))\n",
    "        for i in range(self.n_classes):\n",
    "            tr_c  = train[y==i]\n",
    "            self.prior[i]=tr_c.shape[0]/train.shape[0]\n",
    "            for j in range(self.n_features):\n",
    "                gmm=GMM(k)\n",
    "                self.mean[i,j,:], self.var[i,j,:],self.weights[i,j,:]=gmm.fit(tr_c[:,j],y[(y==j)])\n",
    "    "
   ]
  },
  {
   "cell_type": "code",
   "execution_count": 53,
   "metadata": {},
   "outputs": [],
   "source": [
    "# Naive Bayes of Binomial \n",
    "class BinomialNB:\n",
    "    def __init__(self,n_features):\n",
    "        self.n_features=n_features\n",
    "    def predict(self,test):\n",
    "        prob_vect = np.zeros((self.n_classes,test.shape[0]))\n",
    "        \n",
    "        for i in range(self.n_classes):\n",
    "            class_cond=np.ones(test.shape[0])\n",
    "            for j in range(1,self.n_features):\n",
    "#                 pdb.set_trace()\n",
    "                class_cond = np.dot(class_cond,np.array(binomial(test[:,j],self.prob[i,j],self.m[j])))\n",
    "                prior=self.prior[i]         \n",
    "            prob_vect[i,:] = prior*class_cond       \n",
    "        return np.argmax(prob_vect,axis=0), prob_vect.T\n",
    "        \n",
    "    def fit(self, train,y):\n",
    "        self.n_classes = np.max(y)+1\n",
    "        self.m=np.max(train,axis=0)\n",
    "        self.prior = np.zeros(self.n_classes) \n",
    "        self.prob=np.zeros((self.n_classes,self.n_features))\n",
    "        for i in range(self.n_classes):\n",
    "            tr_c  = train[y==i]\n",
    "            self.prior[i]=tr_c.shape[0]/train.shape[0]\n",
    "            for j in range(self.n_features):\n",
    "                self.prob[i,j]=np.mean(tr_c[:,j])/self.m[j]\n",
    "        print(self.prob)\n",
    "        "
   ]
  },
  {
   "cell_type": "code",
   "execution_count": 41,
   "metadata": {},
   "outputs": [],
   "source": [
    "# Naive Bayes of Gaussian \n",
    "class GaussianNB():\n",
    "    def predict(self,test):\n",
    "        prob_vect = np.zeros((self.n_classes,test.shape[0]))\n",
    "        for i in range(self.n_classes):\n",
    "            class_cond=1\n",
    "            for j in range(self.n_features):\n",
    "                class_cond = class_cond*univariate_normal(test[:,j],self.mean[i,j], self.var[i,j])\n",
    "            prior=self.prior[i]         \n",
    "            prob_vect[i,:] = prior*class_cond\n",
    "#         print(np.argmax(prob_vect,axis=0).shape)\n",
    "        return np.argmax(prob_vect,axis=0), prob_vect.T\n",
    "        \n",
    "    def fit(self, train,y):\n",
    "        self.n_classes = np.max(y)+1\n",
    "        self.prior = np.zeros(self.n_classes) \n",
    "        self.n_features=train.shape[1]\n",
    "        self.mean = np.zeros((self.n_classes,self.n_features))\n",
    "        self.var = np.zeros((self.n_classes,self.n_features))\n",
    "        for i in range(self.n_classes):\n",
    "            tr_c  = train[y==i]\n",
    "            self.prior[i]=tr_c.shape[0]/train.shape[0]\n",
    "            for j in range(self.n_features):\n",
    "                self.mean[i,j]= np.mean(tr_c[:,j])\n",
    "                self.var[i,j]=np.var(tr_c[:,j])\n",
    "        self.mean = np.asarray(self.mean)\n",
    "        self.var = np.asarray(self.var)     "
   ]
  },
  {
   "cell_type": "code",
   "execution_count": 42,
   "metadata": {},
   "outputs": [],
   "source": [
    "class PCA:\n",
    "    def __init__(self,n_components,*args):\n",
    "        self.n=n_components\n",
    "    def fit_transform(self,X):\n",
    "        return self.fit(X)\n",
    "    def fit(self,copy):\n",
    "        X=copy\n",
    "        self.mean = np.mean(X, axis=0)\n",
    "        X = X-self.mean\n",
    "        C=np.cov(X.T)\n",
    "#         pdb.set_trace()\n",
    "        U, V=np.linalg.eig(C)\n",
    "        self.components=V\n",
    "        return np.dot(X,V)[:,:self.n]\n",
    "   \n",
    "    def transform(self,test):\n",
    "        output = np.dot(test-self.mean, self.components)\n",
    "        return output[:,:self.n]\n",
    "   \n",
    "        "
   ]
  },
  {
   "cell_type": "code",
   "execution_count": 43,
   "metadata": {},
   "outputs": [],
   "source": [
    "class KNN:\n",
    "    def __init__(self,k,*args):\n",
    "        self.k=k\n",
    "    def fit(self,train,y):\n",
    "        self.train=train\n",
    "        self.y=y\n",
    "    def predict_one(self,test):\n",
    "        distances=np.sum((self.train-test)**2,axis=1)\n",
    "        sorts = distances.argsort()\n",
    "        targets = np.zeros(self.k)\n",
    "        for i in range(self.k):\n",
    "            idx = sorts[i]\n",
    "            targets[i]=(self.y[idx])\n",
    "        targets=np.array(targets,dtype='int')\n",
    "        return np.bincount(targets)\n",
    "        \n",
    "    def predict(self,test):\n",
    "        preds = []\n",
    "        probabs=[]\n",
    "        for i in range(test.shape[0]):\n",
    "            preds.append(np.argmax(self.predict_one(test[i,:])))\n",
    "            probabs.append(self.predict_one(test[i,:])/np.sum(self.predict_one(test[i,:])))\n",
    "        return preds, probabs"
   ]
  },
  {
   "cell_type": "code",
   "execution_count": 44,
   "metadata": {},
   "outputs": [],
   "source": [
    "class KMeans:\n",
    "    \n",
    "    def __init__(self,k):\n",
    "        self.k=k\n",
    "        \n",
    "    def fit_predict(self,train,epsilon=0.001,*args):\n",
    "        self.num_features = train.shape[1]\n",
    "        history=[]\n",
    "        self.centers=train[np.random.randint(0,train.shape[0]-1,self.k),:]\n",
    "        print(self.centers.shape)\n",
    "        preds = np.zeros(train.shape[0])\n",
    "        norm = distance(self.centers,0)\n",
    "        dist_vec=np.zeros(self.k)\n",
    "#         pdb.set_trace()\n",
    "#         print(norm)\n",
    "        iteration = 0\n",
    "        while (norm > epsilon and iteration<500):\n",
    "            iteration += 1\n",
    "            for i in range(train.shape[0]):\n",
    "                for j in range(self.k):\n",
    "                    dist_vec[j] = np.sum((train[i,:]-self.centers[j])**2)\n",
    "                preds[i] = np.argmin(dist_vec)\n",
    "#                 print(dist_vec.shape)\n",
    "                probabs[i,:]=dist_vec\n",
    "            norm=0   \n",
    "            for i in range(self.k):\n",
    "                 if(train[preds==i,:].shape[0]):\n",
    "                    self.centers[i]=np.mean(train[preds==i,:])\n",
    "                    norm += np.sum((train[preds==i,:]-self.centers[i])**2)   \n",
    "#             print(self.centers)\n",
    "#             print(norm)\n",
    "            history.append(self.centers)\n",
    "            iteration+=1\n",
    "#         print(norm)\n",
    "        return preds\n",
    "\n",
    "    def predict(self,test):\n",
    "        preds = np.zeros(test.shape[0])\n",
    "        probabs=np.zeros((test.shape[0],self.k))\n",
    "        dist_vec=np.zeros(self.k)\n",
    "        for i in range(test.shape[0]):\n",
    "                for j in range(self.k):\n",
    "                    dist_vec[j] = np.sum((test[i,:]-self.centers[j])**2)\n",
    "                preds[i] = np.argmin(dist_vec)\n",
    "                probabs[i,:]=dist_vec\n",
    "        return preds, probabs\n",
    "        "
   ]
  },
  {
   "cell_type": "code",
   "execution_count": 6,
   "metadata": {},
   "outputs": [],
   "source": [
    "class Parzen:\n",
    "    def __init__(self, window_size=1.):\n",
    "        self.window_size = window_size\n",
    "\n",
    "    def fit(self,train,y,*args):\n",
    "            self.train=train\n",
    "            self.y=y  \n",
    "\n",
    "    def predict(self,test):\n",
    "        n_classes = np.unique(self.y)\n",
    "        preds = np.zeros(test.shape[0])\n",
    "        probabs=np.zeros((test.shape[0], n_classes))\n",
    "        for i in range(test.shape[0]):\n",
    "            probabs[i,:]=self.get_prob(test[i])\n",
    "            preds[i]=np.argmax(self.get_prob(test[i]),axis=1)\n",
    "        return preds, probabs\n",
    "\n",
    "\n",
    "    def get_prob(self,test):\n",
    "        probs=np.zeros(np.unique(self.y))\n",
    "        n_classes = np.unique(y)\n",
    "        for i in range(n_classes):\n",
    "            probs[i]=np.mean(univariate_normal(test,self.train[self.y==i],self.window_size))\n",
    "        return probs\n",
    "\n"
   ]
  },
  {
   "cell_type": "code",
   "execution_count": 18,
   "metadata": {},
   "outputs": [],
   "source": [
    "from sklearn.preprocessing import label_binarize\n",
    "from sklearn.metrics import roc_curve\n",
    "from scipy import interp\n",
    "class metrics:\n",
    "    def accuracy(self,y,preds):\n",
    "        return np.sum(y==preds)/y.shape[0]\n",
    "    \n",
    "    def scores(self,y_true,y_pred):\n",
    "        tp =(y_true == y_pred)\n",
    "        tp_sum=np.bincount(y_true[tp].astype(int))\n",
    "        pred_sum=np.bincount(y_pred.astype(int))\n",
    "        true_sum=np.bincount(y_true.astype(int))\n",
    "        precision = tp_sum/pred_sum\n",
    "        recall = tp_sum/true_sum\n",
    "        f_score = ((2) * precision * recall /\n",
    "                   (precision + recall))\n",
    "        precision = np.average(precision)\n",
    "        recall = np.average(recall)\n",
    "        f_score = np.average(f_score)\n",
    "\n",
    "        return precision, recall, f_score\n",
    "    \n",
    "    def binary_roc_curve(self,y,probs,*args,**kwargs):\n",
    "        y = (y == 1)\n",
    "\n",
    "        desc_score_indices = np.argsort(probs)[::-1]\n",
    "        probs = probs[desc_score_indices]\n",
    "        y = y[desc_score_indices]\n",
    "        distinct_value_indices = np.where(np.diff(probs))[0]\n",
    "        threshold_idxs = np.r_[distinct_value_indices, y.size - 1]\n",
    "\n",
    "        tps = y[threshold_idxs]\n",
    "        fps = 1 + threshold_idxs - tps\n",
    "        thresholds=y[threshold_idxs]\n",
    "        optimal_idxs = np.where(np.r_[True,np.logical_or(np.diff(fps, 2),np.diff(tps, 2)),True])[0]\n",
    "        fps = fps[optimal_idxs]\n",
    "        tps = tps[optimal_idxs]\n",
    "        thresholds = thresholds[optimal_idxs]\n",
    "        print(fps,tps)\n",
    "        fpr = fps / fps[-1]\n",
    "        tpr = tps / tps[-1]\n",
    "\n",
    "        return fpr, tpr, thresholds    \n",
    "        \n",
    "    def multiclass_roc_curve(self,y,y_score,ax,label,*args,**kwargs):\n",
    "        n_classes=y.max()+1\n",
    "#         print(n_classes)\n",
    "        if(n_classes==2):\n",
    "            y_test = np.array([1-y,y]).T\n",
    "            print(y_test.shape)\n",
    "        else:\n",
    "            y_test = label_binarize(y, classes=np.arange(n_classes))\n",
    "#         print(y_test)\n",
    "        fpr = dict()\n",
    "        thresholds=dict()\n",
    "        tpr = dict()\n",
    "        roc_auc = dict()\n",
    "#         print(y_test.shape,y_score.shape)\n",
    "        for i in range(n_classes):\n",
    "            fpr[i], tpr[i], _ = roc_curve(y_test[:, i], y_score[:, i])\n",
    "        all_fpr = np.unique(np.concatenate([fpr[i] for i in range(n_classes)]))\n",
    "        mean_tpr = np.zeros_like(all_fpr)\n",
    "        for i in range(n_classes):\n",
    "            mean_tpr += interp(all_fpr, fpr[i], tpr[i])\n",
    "        mean_tpr /= n_classes\n",
    "        fpr[\"macro\"] = all_fpr\n",
    "        tpr[\"macro\"] = mean_tpr\n",
    "        ax.plot(fpr[\"macro\"], tpr[\"macro\"],label=label, linestyle=':', linewidth=4)\n"
   ]
  },
  {
   "cell_type": "code",
   "execution_count": 19,
   "metadata": {},
   "outputs": [],
   "source": [
    "results=metrics()"
   ]
  },
  {
   "cell_type": "markdown",
   "metadata": {},
   "source": [
    "# FASHION-MNIST"
   ]
  },
  {
   "cell_type": "code",
   "execution_count": 146,
   "metadata": {},
   "outputs": [],
   "source": [
    "DATA_DIR='data/fashion/'\n",
    "train, y_train = mnist_reader.load_mnist(path=DATA_DIR, kind='train')\n",
    "test, y_test = mnist_reader.load_mnist(path=DATA_DIR, kind='t10k')"
   ]
  },
  {
   "cell_type": "code",
   "execution_count": 147,
   "metadata": {},
   "outputs": [
    {
     "name": "stdout",
     "output_type": "stream",
     "text": [
      "(60000, 784)\n",
      "(60000, 30)\n"
     ]
    }
   ],
   "source": [
    "# from sklearn.decomposition import PCA\n",
    "print(train.shape)\n",
    "pca=PCA(n_components=30)\n",
    "train=pca.fit_transform(train)\n",
    "print(train.shape)\n",
    "test=pca.transform(test)"
   ]
  },
  {
   "cell_type": "code",
   "execution_count": 148,
   "metadata": {},
   "outputs": [
    {
     "name": "stdout",
     "output_type": "stream",
     "text": [
      "(10000, 30)\n"
     ]
    }
   ],
   "source": [
    "print(test.shape)"
   ]
  },
  {
   "cell_type": "code",
   "execution_count": 122,
   "metadata": {},
   "outputs": [],
   "source": [
    "# n_class=y_train.max()+1\n",
    "# for j in range(n_class):\n",
    "#     fig,ax=plt.subplots()\n",
    "#     for i in range(train.shape[1]):\n",
    "#         ax.hist(list(train[(y_train==j),i]))\n",
    "#     fig.savefig('fashion_mnist_class_cond'+str(j)+'.png')"
   ]
  },
  {
   "cell_type": "code",
   "execution_count": 1,
   "metadata": {
    "scrolled": true
   },
   "outputs": [],
   "source": [
    "# acc_tr=[]\n",
    "# acc=[]\n",
    "# x=np.arange(2,10)\n",
    "# for i in x:\n",
    "#     clf=KNN(i)\n",
    "#     clf.fit(train,y_train)\n",
    "#     preds_tr=clf.predict(train)\n",
    "#     preds=clf.predict(test)\n",
    "#     acc_tr.append(results.accuracy(y_train, preds_tr))\n",
    "#     acc.append(results.accuracy(y_test, preds))\n",
    "\n",
    "\n",
    "# fig,ax=plt.subplots()\n",
    "# ax.scatter(list(x),acc_tr)\n",
    "# ax.scatter(list(x),acc,color='r')"
   ]
  },
  {
   "cell_type": "code",
   "execution_count": 29,
   "metadata": {},
   "outputs": [],
   "source": [
    "# x=np.arange(10,12,4)\n",
    "# acc_tr=[]\n",
    "# acc=[]\n",
    "# for i in x:\n",
    "#     lab=np.zeros(i)\n",
    "#     kmeans = KMeans(i)\n",
    "#     preds_tr=kmeans.fit_predict(train)\n",
    "#     preds, probs_kmeans=kmeans.predict(test)\n",
    "#     print(probs_kmeans.shape)\n",
    "#     for j in range(i):\n",
    "#         if((preds_tr==j).shape[0]):\n",
    "#             lab[j]=np.bincount(y_train[(preds_tr==j)]).argmax()  \n",
    "#     acc_tr.append(np.sum(y_train==lab[preds_tr])/y_train.shape)\n",
    "#     acc.append(np.sum(y_test==lab[preds])/y_test.shape)\n",
    "\n",
    "# fig,ax=plt.subplots()\n",
    "# ax.scatter(list(x),acc_tr)\n",
    "# ax.scatter(list(x),acc,color='r')"
   ]
  },
  {
   "cell_type": "code",
   "execution_count": 31,
   "metadata": {},
   "outputs": [],
   "source": [
    "# x=np.arange(30,80,10) \n",
    "# fig, ax= plt.subplots()\n",
    "# classifier = [GaussianNB(), KMeans(150), KNN(9)]\n",
    "\n",
    "# names=['gaussian naive bayes','kmeans','knn']\n",
    "# for j in range(1):\n",
    "#     acc_tr=[]\n",
    "#     for i in x:\n",
    "#         pca=PCA(n_components=i)\n",
    "#         train=pca.fit_transform(train_original)\n",
    "#         test=pca.transform(test_original)\n",
    "#         clf=classifier[j]\n",
    "#         clf.fit(train,y_train)\n",
    "#         preds_tr=clf.predict(train)\n",
    "#         preds=clf.predict(test)\n",
    "#         acc_tr.append(accuracy_score(y_train, preds_tr))\n",
    "#     ax.scatter(list(x),acc_tr,label=names[j])\n",
    "# fig.savefig('pca_variations.png')    "
   ]
  },
  {
   "cell_type": "code",
   "execution_count": 150,
   "metadata": {
    "scrolled": true
   },
   "outputs": [
    {
     "name": "stdout",
     "output_type": "stream",
     "text": [
      "[0.853] [0.8832166666666666]\n",
      "(0.8533659367418854, 0.853, 0.852413071460193)\n"
     ]
    }
   ],
   "source": [
    "# i=9\n",
    "# acc_tr=[]\n",
    "# acc=[]\n",
    "# clf=KNN(i)\n",
    "# clf.fit(train,y_train)\n",
    "# # preds_tr,_=clf.predict(train)\n",
    "# # preds,probs_knn=clf.predict(test)\n",
    "# preds_tr=clf.predict(train)\n",
    "# preds=clf.predict(test)\n",
    "# probs_knn=clf.predict_proba(test)\n",
    "# acc_tr.append(results.accuracy(y_train, preds_tr))\n",
    "# acc.append(results.accuracy(y_test, preds))\n",
    "# print(acc,acc_tr)\n",
    "# print(results.scores(y_test,preds))"
   ]
  },
  {
   "cell_type": "code",
   "execution_count": null,
   "metadata": {},
   "outputs": [],
   "source": [
    "# k=150\n",
    "# acc_tr=[]\n",
    "# acc=[]\n",
    "# n_classes=y_train.max()+1\n",
    "# lab=np.zeros(i)\n",
    "# kmeans = KMeans(i)\n",
    "# preds_tr=kmeans.fit_predict(train)\n",
    "# # preds, probs_kmeans=kmeans.predict(test)\n",
    "# preds =kmeans.predict(test)\n",
    "# centers=kmeans.cluster_centers_\n",
    "# probs_kmeans=np.zeros((test.shape[0],k))\n",
    "\n",
    "# dist_vec=np.zeros(k)\n",
    "# for i in range(test.shape[0]):\n",
    "#                 for j in range(k):\n",
    "#                     dist_vec[j] = np.sum((test[i,:]-centers[j])**2)\n",
    "#                 probs_kmeans[i,:]=dist_vec\n",
    "# probs_kmeans=np.divide(1,probs_kmeans)\n",
    "# probs_kmeans=(probs_kmeans.T/np.sum(probs_kmeans,axis=1)).T\n",
    "# probabs_kmeans=np.zeros((test.shape[0],n_classes))\n",
    "# for j in range(k):\n",
    "#     if(y_train[(preds_tr==j)].shape[0]):\n",
    "#         lab[j]=np.bincount(y_train[(preds_tr==j)]).argmax()\n",
    "#         probabs_kmeans[:,lab[j].astype(int)]+=probs_kmeans[:,j]\n",
    "# acc_tr.append(np.sum(y_train==lab[preds_tr.astype(int)])/y_train.shape[0])\n",
    "# acc.append(np.sum(y_test==lab[preds.astype(int)])/y_test.shape[0])\n",
    "\n",
    "# probs_kmeans=probabs_kmeans"
   ]
  },
  {
   "cell_type": "code",
   "execution_count": 156,
   "metadata": {},
   "outputs": [
    {
     "name": "stdout",
     "output_type": "stream",
     "text": [
      "[0.7516] [0.7586]\n",
      "(0.7482657256573846, 0.7515999999999999, 0.7473104049597346)\n"
     ]
    }
   ],
   "source": [
    "print(acc,acc_tr)\n",
    "print(results.scores(y_test,lab[preds.astype(int)]))"
   ]
  },
  {
   "cell_type": "code",
   "execution_count": 157,
   "metadata": {
    "scrolled": true
   },
   "outputs": [
    {
     "name": "stdout",
     "output_type": "stream",
     "text": [
      "[0.7591] [0.77198333]\n",
      "(0.7599586688621425, 0.7591, 0.7586774323618745)\n"
     ]
    }
   ],
   "source": [
    "clf = GaussianNB()\n",
    "clf.fit(train,y_train)\n",
    "preds_tr, probs_tr_gnb=clf.predict(train)\n",
    "preds, probs_gnb=clf.predict(test)\n",
    "acc_tr=np.sum(y_train==preds_tr)/y_train.shape\n",
    "acc=np.sum(y_test==preds)/y_test.shape\n",
    "print(acc,acc_tr)\n",
    "print(results.scores(y_test,preds))"
   ]
  },
  {
   "cell_type": "code",
   "execution_count": 158,
   "metadata": {},
   "outputs": [
    {
     "name": "stdout",
     "output_type": "stream",
     "text": [
      "[0.7985] [0.80108333]\n",
      "(0.8016677752883641, 0.7985, 0.7929446503371929)\n"
     ]
    }
   ],
   "source": [
    "clf = GaussianBayes()\n",
    "clf.fit(train,y_train)\n",
    "preds_tr, probs_tr_gb=clf.predict(train)\n",
    "preds, probs_gb=clf.predict(test)\n",
    "acc_tr=np.sum(y_train==preds_tr)/y_train.shape\n",
    "acc=np.sum(y_test==preds)/y_test.shape\n",
    "print(acc,acc_tr)\n",
    "print(results.scores(y_test,preds))"
   ]
  },
  {
   "cell_type": "code",
   "execution_count": 159,
   "metadata": {},
   "outputs": [
    {
     "data": {
      "text/plain": [
       "<matplotlib.legend.Legend at 0x7f423cad4898>"
      ]
     },
     "execution_count": 159,
     "metadata": {},
     "output_type": "execute_result"
    },
    {
     "data": {
      "image/png": "[encoded data removed]",
      "text/plain": [
       "<Figure size 432x288 with 1 Axes>"
      ]
     },
     "metadata": {},
     "output_type": "display_data"
    }
   ],
   "source": [
    "fig,ax=plt.subplots()\n",
    "ax.set_xlabel('False Positive Rate')\n",
    "ax.set_ylabel('True Positive Rate')\n",
    "ax.set_title('Receiver operating characteristic -multi-class')\n",
    "results.multiclass_roc_curve(y_test,probs_gb,ax,'gaussian bayes')\n",
    "results.multiclass_roc_curve(y_test,probs_knn,ax,'knn')\n",
    "results.multiclass_roc_curve(y_test,probs_kmeans,ax,'kmeans')\n",
    "results.multiclass_roc_curve(y_test,probs_gnb,ax,'gaussiannb')\n",
    "ax.legend(loc=\"lower right\")"
   ]
  },
  {
   "cell_type": "code",
   "execution_count": 160,
   "metadata": {},
   "outputs": [],
   "source": [
    "fig.savefig('rocmnist')"
   ]
  },
  {
   "cell_type": "markdown",
   "metadata": {},
   "source": [
    "# MEDICAL DATA"
   ]
  },
  {
   "cell_type": "code",
   "execution_count": 75,
   "metadata": {
    "scrolled": true
   },
   "outputs": [
    {
     "name": "stdout",
     "output_type": "stream",
     "text": [
      "[['HEALTHY' 1.6315155608144196 -0.26444658130172355 2.534567146651425]\n",
      " ['SURGERY' 0.15395105426389907 1.419533481505174 1.3331207912724836]\n",
      " ['HEALTHY' 2.021729118164318 0.26204637889999405 2.8799717380508727]\n",
      " ...\n",
      " ['HEALTHY' 0.19320188275265227 0.36039894430698144 1.8676445668171464]\n",
      " ['HEALTHY' 1.6840959730399991 -0.02321819895892971 3.306257682435044]\n",
      " ['MEDICATION' 0.9752179047232428 2.305958926888452 0.22982688347681815]]\n",
      "(3000,)\n"
     ]
    },
    {
     "name": "stderr",
     "output_type": "stream",
     "text": [
      "/home/khushal/anaconda2/envs/dl/lib/python3.6/site-packages/ipykernel/__main__.py:2: FutureWarning: Method .as_matrix will be removed in a future version. Use .values instead.\n",
      "  from ipykernel import kernelapp as app\n"
     ]
    }
   ],
   "source": [
    "data = pd.read_csv('Medical_data.csv')\n",
    "X = data.as_matrix()\n",
    "print(X)\n",
    "y=np.empty(X.shape[0])\n",
    "for i in range(X.shape[0]):\n",
    "    if(X[i,0]=='HEALTHY'):\n",
    "        y[i]=0\n",
    "    if(X[i,0]=='SURGERY'):\n",
    "        y[i]=1\n",
    "    if(X[i,0]=='MEDICATION'):\n",
    "        y[i]=2\n",
    "print(y.shape)\n",
    "X = X[:,1:4]\n",
    "y=np.array(y,dtype='int')"
   ]
  },
  {
   "cell_type": "code",
   "execution_count": 76,
   "metadata": {},
   "outputs": [
    {
     "name": "stdout",
     "output_type": "stream",
     "text": [
      "(3000,)\n"
     ]
    },
    {
     "name": "stderr",
     "output_type": "stream",
     "text": [
      "/home/khushal/anaconda2/envs/dl/lib/python3.6/site-packages/ipykernel/__main__.py:2: FutureWarning: Method .as_matrix will be removed in a future version. Use .values instead.\n",
      "  from ipykernel import kernelapp as app\n"
     ]
    }
   ],
   "source": [
    "data_test = pd.read_csv('test_medical.csv')\n",
    "X_test = data_test.as_matrix()\n",
    "# print(X)\n",
    "y_test=np.empty(X_test.shape[0])\n",
    "for i in range(X_test.shape[0]):\n",
    "    if(X_test[i,0]=='HEALTHY'):\n",
    "        y_test[i]=0\n",
    "    if(X_test[i,0]=='SURGERY'):\n",
    "        y_test[i]=1\n",
    "    if(X_test[i,0]=='MEDICATION'):\n",
    "        y_test[i]=2\n",
    "print(y_test.shape)  \n",
    "X_test = X_test[:,1:4]\n",
    "y_test=np.array(y_test,dtype='int')"
   ]
  },
  {
   "cell_type": "code",
   "execution_count": 77,
   "metadata": {},
   "outputs": [
    {
     "name": "stdout",
     "output_type": "stream",
     "text": [
      "[0 1 0 ... 0 0 2]\n"
     ]
    }
   ],
   "source": [
    "# from sklearn.model_selection import StratifiedShuffleSplit\n",
    "# sss = StratifiedShuffleSplit(n_splits=20, test_size=0.2)\n",
    "# sss.get_n_splits(data, y)\n",
    "# for train_index, test_index in sss.split(data, y):\n",
    "#     train, y_train = data[train_index], y[train_index]\n",
    "#     test, y_test = data[test_index], y[test_index]\n",
    "train=X\n",
    "y_train=y\n",
    "test=X_test\n",
    "print(y_train)"
   ]
  },
  {
   "cell_type": "code",
   "execution_count": 78,
   "metadata": {},
   "outputs": [
    {
     "name": "stdout",
     "output_type": "stream",
     "text": [
      "(3000, 3) (3000,)\n"
     ]
    }
   ],
   "source": [
    "print(train.shape,y_train.shape)"
   ]
  },
  {
   "cell_type": "code",
   "execution_count": 28,
   "metadata": {},
   "outputs": [],
   "source": [
    "# n_class=y_train.max()+1\n",
    "# for j in range(n_class):\n",
    "#     fig,ax=plt.subplots()\n",
    "#     for i in range(train.shape[1]):\n",
    "#         ax.hist(list(train[(y_train==j),i]))\n",
    "#     fig.savefig('medical_data'+str(j)+'.png')"
   ]
  },
  {
   "cell_type": "code",
   "execution_count": 27,
   "metadata": {},
   "outputs": [],
   "source": [
    "# x=np.arange(30,32,4)\n",
    "# acc_tr=[]\n",
    "# acc=[]\n",
    "# n_classes=y_train.max()+1\n",
    "# for i in x:\n",
    "#     lab=np.zeros(i)\n",
    "#     kmeans = KMeans(i)\n",
    "#     preds_tr=kmeans.fit_predict(train)\n",
    "#     preds, probs_kmeans=kmeans.predict(test)\n",
    "#     probs_kmeans=np.divide(1,probs_kmeans)\n",
    "#     probs_kmeans=(probs_kmeans.T/np.sum(probs_kmeans,axis=1)).T\n",
    "#     probabs_kmeans=np.zeros((test.shape[0],n_classes))\n",
    "#     for j in range(i):\n",
    "#         if(y_train[(preds_tr==j)].shape[0]):\n",
    "#             lab[j]=np.bincount(y_train[(preds_tr==j)]).argmax()\n",
    "#             probabs_kmeans[:,lab[j].astype(int)]+=probs_kmeans[:,j]\n",
    "#     acc_tr.append(np.sum(y_train==lab[preds_tr.astype(int)])/y_train.shape[0])\n",
    "#     acc.append(np.sum(y_test==lab[preds.astype(int)])/y_test.shape[0])\n",
    "    \n",
    "# print(acc,acc_tr)\n",
    "# print(probs_kmeans)"
   ]
  },
  {
   "cell_type": "code",
   "execution_count": null,
   "metadata": {
    "collapsed": true
   },
   "outputs": [],
   "source": [
    "# fig,ax=plt.subplots()\n",
    "# ax.scatter(list(x),acc_tr)\n",
    "# ax.scatter(list(x),acc,color='r')\n",
    "# print(train.shape)"
   ]
  },
  {
   "cell_type": "code",
   "execution_count": 26,
   "metadata": {},
   "outputs": [],
   "source": [
    "# n_class=y_train.max()+1\n",
    "# for j in range(n_classes):\n",
    "#     for i in range(train.shape[1]):\n",
    "#         plt.hist(list(train[(y_train==j),i]))"
   ]
  },
  {
   "cell_type": "code",
   "execution_count": 66,
   "metadata": {
    "scrolled": true
   },
   "outputs": [
    {
     "name": "stdout",
     "output_type": "stream",
     "text": [
      "[0.895] [0.926]\n",
      "(0.8985818496089738, 0.895, 0.8957049919320151)\n"
     ]
    }
   ],
   "source": [
    "i=9\n",
    "acc_tr=[]\n",
    "acc=[]\n",
    "clf=KNN(i)\n",
    "clf.fit(train,y_train)\n",
    "preds_tr,_=clf.predict(train)\n",
    "preds,probs_knn=clf.predict(test)\n",
    "acc_tr.append(results.accuracy(y_train, preds_tr))\n",
    "acc.append(results.accuracy(y_test, preds))\n",
    "print(acc,acc_tr)\n",
    "print(results.scores(y_test,preds))"
   ]
  },
  {
   "cell_type": "code",
   "execution_count": 74,
   "metadata": {
    "scrolled": true
   },
   "outputs": [],
   "source": [
    "\n",
    "# i=2\n",
    "# acc_tr=[]\n",
    "# acc=[]\n",
    "# clf=GMMNB(i)\n",
    "# clf.fit(train,y_train)\n",
    "# preds_tr=clf.predict(train)\n",
    "# preds=clf.predict(test)\n",
    "# acc_tr.append(results.accuracy(y_train, preds_tr))\n",
    "# acc.append(results.accuracy(y_test, preds))\n",
    "# print(acc,acc_tr)\n",
    "# print(results.scores(y_test,preds))"
   ]
  },
  {
   "cell_type": "code",
   "execution_count": 81,
   "metadata": {},
   "outputs": [],
   "source": [
    "\n",
    "# k=50\n",
    "# acc_tr=[]\n",
    "# acc=[]\n",
    "# n_classes=y_train.max()+1\n",
    "# lab=np.zeros(k)\n",
    "# kmeans = KMeans(k)\n",
    "# preds_tr=kmeans.fit_predict(train)\n",
    "# # preds, probs_kmeans=kmeans.predict(test)\n",
    "# preds =kmeans.predict(test)\n",
    "# centers=kmeans.cluster_centers_\n",
    "# probs_kmeans=np.zeros((test.shape[0],k))\n",
    "\n",
    "# dist_vec=np.zeros(k)\n",
    "# for i in range(test.shape[0]):\n",
    "#                 for j in range(k):\n",
    "#                     dist_vec[j] = np.sum((test[i,:]-centers[j])**2)\n",
    "#                 probs_kmeans[i,:]=dist_vec\n",
    "# probs_kmeans=np.divide(1,probs_kmeans)\n",
    "# probs_kmeans=(probs_kmeans.T/np.sum(probs_kmeans,axis=1)).T\n",
    "# probabs_kmeans=np.zeros((test.shape[0],n_classes))\n",
    "# for j in range(k):\n",
    "#     if(y_train[(preds_tr==j)].shape[0]):\n",
    "#         lab[j]=np.bincount(y_train[(preds_tr==j)]).argmax()\n",
    "#         probabs_kmeans[:,lab[j].astype(int)]+=probs_kmeans[:,j]\n",
    "# acc_tr.append(np.sum(y_train==lab[preds_tr.astype(int)])/y_train.shape[0])\n",
    "# acc.append(np.sum(y_test==lab[preds.astype(int)])/y_test.shape[0])\n",
    "\n",
    "# probs_kmeans=probabs_kmeans"
   ]
  },
  {
   "cell_type": "code",
   "execution_count": null,
   "metadata": {},
   "outputs": [],
   "source": [
    "# i=50\n",
    "# acc_tr=[]\n",
    "# acc=[]\n",
    "# n_classes=y_train.max()+1\n",
    "# lab=np.zeros(i)\n",
    "# kmeans = KMeans(i)\n",
    "# preds_tr=kmeans.fit_predict(train)\n",
    "# preds, probs_kmeans=kmeans.predict(test)\n",
    "# probs_kmeans=np.divide(1,probs_kmeans)\n",
    "# probs_kmeans=(probs_kmeans.T/np.sum(probs_kmeans,axis=1)).T\n",
    "# probabs_kmeans=np.zeros((test.shape[0],n_classes))\n",
    "# for j in range(i):\n",
    "#     if(y_train[(preds_tr==j)].shape[0]):\n",
    "#         lab[j]=np.bincount(y_train[(preds_tr==j)]).argmax()\n",
    "#         probabs_kmeans[:,lab[j].astype(int)]+=probs_kmeans[:,j]\n",
    "# acc_tr.append(np.sum(y_train==lab[preds_tr.astype(int)])/y_train.shape[0])\n",
    "# acc.append(np.sum(y_test==lab[preds.astype(int)])/y_test.shape[0])\n",
    "\n",
    "# probs_kmeans=probabs_kmeans"
   ]
  },
  {
   "cell_type": "code",
   "execution_count": 80,
   "metadata": {},
   "outputs": [
    {
     "name": "stdout",
     "output_type": "stream",
     "text": [
      "[0.8746666666666667] [0.884]\n",
      "(0.8874859285627358, 0.8746666666666666, 0.8757012767275888)\n"
     ]
    }
   ],
   "source": [
    "print(acc,acc_tr)\n",
    "print(results.scores(y_test,lab[preds.astype(int)]))"
   ]
  },
  {
   "cell_type": "code",
   "execution_count": 74,
   "metadata": {
    "scrolled": true
   },
   "outputs": [
    {
     "name": "stdout",
     "output_type": "stream",
     "text": [
      "[0.89866667] [0.90666667]\n",
      "(0.9003003023566966, 0.8986666666666667, 0.8990564264733582)\n"
     ]
    }
   ],
   "source": [
    "clf = GaussianNB()\n",
    "clf.fit(train,y_train)\n",
    "preds_tr, probs_tr_gnb=clf.predict(train)\n",
    "preds, probs_gnb=clf.predict(test)\n",
    "acc_tr=np.sum(y_train==preds_tr)/y_train.shape\n",
    "acc=np.sum(y_test==preds)/y_test.shape\n",
    "print(acc,acc_tr)\n",
    "print(results.scores(y_test,preds))"
   ]
  },
  {
   "cell_type": "code",
   "execution_count": 76,
   "metadata": {},
   "outputs": [
    {
     "name": "stdout",
     "output_type": "stream",
     "text": [
      "[0.89766667] [0.90333333]\n",
      "(0.8995270941804185, 0.8976666666666667, 0.8981247958615769)\n"
     ]
    }
   ],
   "source": [
    "clf = GaussianBayes()\n",
    "clf.fit(train,y_train)\n",
    "preds_tr, probs_tr_gb=clf.predict(train)\n",
    "preds, probs_gb=clf.predict(test)\n",
    "acc_tr=np.sum(y_train==preds_tr)/y_train.shape\n",
    "acc=np.sum(y_test==preds)/y_test.shape\n",
    "print(acc,acc_tr)\n",
    "print(results.scores(y_test,preds))"
   ]
  },
  {
   "cell_type": "code",
   "execution_count": 91,
   "metadata": {},
   "outputs": [],
   "source": [
    "for i in range(len(probs_knn)):\n",
    "    while(probs_knn[i].shape[0]<3):\n",
    "        probs_knn[i]=np.append(probs_knn[i],[0.00])\n",
    "\n",
    "probs_knn=np.asarray(probs_knn)"
   ]
  },
  {
   "cell_type": "code",
   "execution_count": 93,
   "metadata": {},
   "outputs": [
    {
     "name": "stdout",
     "output_type": "stream",
     "text": [
      "3\n",
      "[[1 0 0]\n",
      " [1 0 0]\n",
      " [1 0 0]\n",
      " ...\n",
      " [1 0 0]\n",
      " [0 1 0]\n",
      " [0 0 1]]\n",
      "(3000, 3) (3000, 3)\n",
      "3\n",
      "[[1 0 0]\n",
      " [1 0 0]\n",
      " [1 0 0]\n",
      " ...\n",
      " [1 0 0]\n",
      " [0 1 0]\n",
      " [0 0 1]]\n",
      "(3000, 3) (3000, 3)\n",
      "3\n",
      "[[1 0 0]\n",
      " [1 0 0]\n",
      " [1 0 0]\n",
      " ...\n",
      " [1 0 0]\n",
      " [0 1 0]\n",
      " [0 0 1]]\n",
      "(3000, 3) (3000, 3)\n",
      "3\n",
      "[[1 0 0]\n",
      " [1 0 0]\n",
      " [1 0 0]\n",
      " ...\n",
      " [1 0 0]\n",
      " [0 1 0]\n",
      " [0 0 1]]\n",
      "(3000, 3) (3000, 3)\n"
     ]
    },
    {
     "data": {
      "text/plain": [
       "<matplotlib.legend.Legend at 0x7f4247aae0f0>"
      ]
     },
     "execution_count": 93,
     "metadata": {},
     "output_type": "execute_result"
    },
    {
     "data": {
      "image/png": "[encoded data removed]",
      "text/plain": [
       "<Figure size 432x288 with 1 Axes>"
      ]
     },
     "metadata": {},
     "output_type": "display_data"
    }
   ],
   "source": [
    "fig,ax=plt.subplots()\n",
    "ax.set_xlabel('False Positive Rate')\n",
    "ax.set_ylabel('True Positive Rate')\n",
    "ax.set_title('ROC Curves for Blood Test')\n",
    "results.multiclass_roc_curve(y_test,probs_gb,ax,'gaussian bayes')\n",
    "results.multiclass_roc_curve(y_test,np.asarray(probs_knn),ax,'knn')\n",
    "results.multiclass_roc_curve(y_test,probs_kmeans,ax,'kmeans')\n",
    "results.multiclass_roc_curve(y_test,probs_gnb,ax,'gaussiannb')\n",
    "ax.legend(loc=\"lower right\")"
   ]
  },
  {
   "cell_type": "code",
   "execution_count": 94,
   "metadata": {},
   "outputs": [],
   "source": [
    "fig.savefig('rocmedical')"
   ]
  },
  {
   "cell_type": "markdown",
   "metadata": {},
   "source": [
    "# TRAIN SELECTION DATA"
   ]
  },
  {
   "cell_type": "code",
   "execution_count": 7,
   "metadata": {},
   "outputs": [
    {
     "ename": "NameError",
     "evalue": "name 'pd' is not defined",
     "output_type": "error",
     "traceback": [
      "\u001b[0;31m---------------------------------------------------------------------------\u001b[0m",
      "\u001b[0;31mNameError\u001b[0m                                 Traceback (most recent call last)",
      "\u001b[0;32m<ipython-input-7-020245adaaaa>\u001b[0m in \u001b[0;36m<module>\u001b[0;34m()\u001b[0m\n\u001b[0;32m----> 1\u001b[0;31m \u001b[0mdata\u001b[0m \u001b[0;34m=\u001b[0m \u001b[0mpd\u001b[0m\u001b[0;34m.\u001b[0m\u001b[0mread_csv\u001b[0m\u001b[0;34m(\u001b[0m\u001b[0;34m'railwayBookingList.csv'\u001b[0m\u001b[0;34m)\u001b[0m\u001b[0;34m\u001b[0m\u001b[0m\n\u001b[0m",
      "\u001b[0;31mNameError\u001b[0m: name 'pd' is not defined"
     ]
    }
   ],
   "source": [
    "data = pd.read_csv('railwayBookingList.csv')"
   ]
  },
  {
   "cell_type": "code",
   "execution_count": 8,
   "metadata": {},
   "outputs": [
    {
     "ename": "NameError",
     "evalue": "name 'data' is not defined",
     "output_type": "error",
     "traceback": [
      "\u001b[0;31m---------------------------------------------------------------------------\u001b[0m",
      "\u001b[0;31mNameError\u001b[0m                                 Traceback (most recent call last)",
      "\u001b[0;32m<ipython-input-8-b952a40701c3>\u001b[0m in \u001b[0;36m<module>\u001b[0;34m()\u001b[0m\n\u001b[0;32m----> 1\u001b[0;31m \u001b[0mprint\u001b[0m\u001b[0;34m(\u001b[0m\u001b[0mdata\u001b[0m\u001b[0;34m.\u001b[0m\u001b[0mhead\u001b[0m\u001b[0;34m(\u001b[0m\u001b[0;34m)\u001b[0m\u001b[0;34m)\u001b[0m\u001b[0;34m\u001b[0m\u001b[0m\n\u001b[0m",
      "\u001b[0;31mNameError\u001b[0m: name 'data' is not defined"
     ]
    }
   ],
   "source": [
    "print(data.head())"
   ]
  },
  {
   "cell_type": "code",
   "execution_count": 9,
   "metadata": {},
   "outputs": [
    {
     "ename": "NameError",
     "evalue": "name 'data' is not defined",
     "output_type": "error",
     "traceback": [
      "\u001b[0;31m---------------------------------------------------------------------------\u001b[0m",
      "\u001b[0;31mNameError\u001b[0m                                 Traceback (most recent call last)",
      "\u001b[0;32m<ipython-input-9-5855e7d11997>\u001b[0m in \u001b[0;36m<module>\u001b[0;34m()\u001b[0m\n\u001b[1;32m      1\u001b[0m \u001b[0;34m\u001b[0m\u001b[0m\n\u001b[1;32m      2\u001b[0m \u001b[0mdict_class\u001b[0m\u001b[0;34m=\u001b[0m\u001b[0;34m{\u001b[0m\u001b[0;34m'FIRST_AC'\u001b[0m\u001b[0;34m:\u001b[0m\u001b[0;36m0\u001b[0m\u001b[0;34m,\u001b[0m\u001b[0;34m'SECOND_AC'\u001b[0m\u001b[0;34m:\u001b[0m\u001b[0;36m1\u001b[0m\u001b[0;34m,\u001b[0m\u001b[0;34m'THIRD_AC'\u001b[0m\u001b[0;34m:\u001b[0m\u001b[0;36m2\u001b[0m\u001b[0;34m,\u001b[0m\u001b[0;34m'NO_PREF'\u001b[0m\u001b[0;34m:\u001b[0m\u001b[0;36m3\u001b[0m\u001b[0;34m}\u001b[0m\u001b[0;34m\u001b[0m\u001b[0m\n\u001b[0;32m----> 3\u001b[0;31m \u001b[0;32mfor\u001b[0m \u001b[0mi\u001b[0m \u001b[0;32min\u001b[0m \u001b[0mrange\u001b[0m\u001b[0;34m(\u001b[0m\u001b[0mdata\u001b[0m\u001b[0;34m.\u001b[0m\u001b[0mshape\u001b[0m\u001b[0;34m[\u001b[0m\u001b[0;36m0\u001b[0m\u001b[0;34m]\u001b[0m\u001b[0;34m)\u001b[0m\u001b[0;34m:\u001b[0m\u001b[0;34m\u001b[0m\u001b[0m\n\u001b[0m\u001b[1;32m      4\u001b[0m     \u001b[0mdata\u001b[0m\u001b[0;34m[\u001b[0m\u001b[0;34m'preferredClass'\u001b[0m\u001b[0;34m]\u001b[0m\u001b[0;34m[\u001b[0m\u001b[0mi\u001b[0m\u001b[0;34m]\u001b[0m\u001b[0;34m=\u001b[0m\u001b[0mdict_class\u001b[0m\u001b[0;34m[\u001b[0m\u001b[0mdata\u001b[0m\u001b[0;34m[\u001b[0m\u001b[0;34m'preferredClass'\u001b[0m\u001b[0;34m]\u001b[0m\u001b[0;34m[\u001b[0m\u001b[0mi\u001b[0m\u001b[0;34m]\u001b[0m\u001b[0;34m]\u001b[0m\u001b[0;34m\u001b[0m\u001b[0m\n\u001b[1;32m      5\u001b[0m \u001b[0;34m\u001b[0m\u001b[0m\n",
      "\u001b[0;31mNameError\u001b[0m: name 'data' is not defined"
     ]
    }
   ],
   "source": [
    "\n",
    "dict_class={'FIRST_AC':0,'SECOND_AC':1,'THIRD_AC':2,'NO_PREF':3}\n",
    "for i in range(data.shape[0]):\n",
    "    data['preferredClass'][i]=dict_class[data['preferredClass'][i]]\n",
    "    "
   ]
  },
  {
   "cell_type": "code",
   "execution_count": 40,
   "metadata": {},
   "outputs": [
    {
     "name": "stderr",
     "output_type": "stream",
     "text": [
      "/home/khushal/anaconda2/envs/dl/lib/python3.6/site-packages/ipykernel/__main__.py:1: SettingWithCopyWarning: \n",
      "A value is trying to be set on a copy of a slice from a DataFrame\n",
      "\n",
      "See the caveats in the documentation: http://pandas.pydata.org/pandas-docs/stable/indexing.html#indexing-view-versus-copy\n",
      "  if __name__ == '__main__':\n",
      "/home/khushal/anaconda2/envs/dl/lib/python3.6/site-packages/ipykernel/__main__.py:2: SettingWithCopyWarning: \n",
      "A value is trying to be set on a copy of a slice from a DataFrame\n",
      "\n",
      "See the caveats in the documentation: http://pandas.pydata.org/pandas-docs/stable/indexing.html#indexing-view-versus-copy\n",
      "  from ipykernel import kernelapp as app\n"
     ]
    }
   ],
   "source": [
    "data['sex'][(data['sex']=='male')]=0\n",
    "data['sex'][(data['sex']=='female')]=1"
   ]
  },
  {
   "cell_type": "code",
   "execution_count": 41,
   "metadata": {},
   "outputs": [
    {
     "name": "stderr",
     "output_type": "stream",
     "text": [
      "/home/khushal/anaconda2/envs/dl/lib/python3.6/site-packages/ipykernel/__main__.py:3: SettingWithCopyWarning: \n",
      "A value is trying to be set on a copy of a slice from a DataFrame\n",
      "\n",
      "See the caveats in the documentation: http://pandas.pydata.org/pandas-docs/stable/indexing.html#indexing-view-versus-copy\n",
      "  app.launch_new_instance()\n"
     ]
    }
   ],
   "source": [
    "sorted_b=np.sort(np.array(data['budget'].unique()))\n",
    "for x,i in enumerate(sorted_b):\n",
    "        data['budget'][data['budget']==i]=x"
   ]
  },
  {
   "cell_type": "code",
   "execution_count": 42,
   "metadata": {},
   "outputs": [
    {
     "data": {
      "text/html": [
       "<div>\n",
       "<style scoped>\n",
       "    .dataframe tbody tr th:only-of-type {\n",
       "        vertical-align: middle;\n",
       "    }\n",
       "\n",
       "    .dataframe tbody tr th {\n",
       "        vertical-align: top;\n",
       "    }\n",
       "\n",
       "    .dataframe thead th {\n",
       "        text-align: right;\n",
       "    }\n",
       "</style>\n",
       "<table border=\"1\" class=\"dataframe\">\n",
       "  <thead>\n",
       "    <tr style=\"text-align: right;\">\n",
       "      <th></th>\n",
       "      <th>caseID</th>\n",
       "      <th>boarded</th>\n",
       "      <th>budget</th>\n",
       "      <th>memberCount</th>\n",
       "      <th>preferredClass</th>\n",
       "      <th>sex</th>\n",
       "      <th>age</th>\n",
       "    </tr>\n",
       "  </thead>\n",
       "  <tbody>\n",
       "    <tr>\n",
       "      <th>0</th>\n",
       "      <td>111131089</td>\n",
       "      <td>0</td>\n",
       "      <td>17</td>\n",
       "      <td>0</td>\n",
       "      <td>0</td>\n",
       "      <td>1</td>\n",
       "      <td>2</td>\n",
       "    </tr>\n",
       "    <tr>\n",
       "      <th>1</th>\n",
       "      <td>2489059216</td>\n",
       "      <td>0</td>\n",
       "      <td>15</td>\n",
       "      <td>3</td>\n",
       "      <td>0</td>\n",
       "      <td>0</td>\n",
       "      <td>0</td>\n",
       "    </tr>\n",
       "    <tr>\n",
       "      <th>2</th>\n",
       "      <td>1565109576</td>\n",
       "      <td>1</td>\n",
       "      <td>15</td>\n",
       "      <td>3</td>\n",
       "      <td>0</td>\n",
       "      <td>1</td>\n",
       "      <td>0</td>\n",
       "    </tr>\n",
       "    <tr>\n",
       "      <th>3</th>\n",
       "      <td>1373075087</td>\n",
       "      <td>1</td>\n",
       "      <td>15</td>\n",
       "      <td>3</td>\n",
       "      <td>0</td>\n",
       "      <td>0</td>\n",
       "      <td>3</td>\n",
       "    </tr>\n",
       "    <tr>\n",
       "      <th>4</th>\n",
       "      <td>1598041082</td>\n",
       "      <td>1</td>\n",
       "      <td>15</td>\n",
       "      <td>3</td>\n",
       "      <td>0</td>\n",
       "      <td>1</td>\n",
       "      <td>2</td>\n",
       "    </tr>\n",
       "  </tbody>\n",
       "</table>\n",
       "</div>"
      ],
      "text/plain": [
       "       caseID  boarded  budget  memberCount preferredClass sex  age\n",
       "0   111131089        0      17            0              0   1    2\n",
       "1  2489059216        0      15            3              0   0    0\n",
       "2  1565109576        1      15            3              0   1    0\n",
       "3  1373075087        1      15            3              0   0    3\n",
       "4  1598041082        1      15            3              0   1    2"
      ]
     },
     "execution_count": 42,
     "metadata": {},
     "output_type": "execute_result"
    }
   ],
   "source": [
    "data.head()"
   ]
  },
  {
   "cell_type": "code",
   "execution_count": 43,
   "metadata": {},
   "outputs": [
    {
     "name": "stdout",
     "output_type": "stream",
     "text": [
      "(1309, 5)\n"
     ]
    },
    {
     "name": "stderr",
     "output_type": "stream",
     "text": [
      "/home/khushal/anaconda2/envs/dl/lib/python3.6/site-packages/ipykernel/__main__.py:2: FutureWarning: Method .as_matrix will be removed in a future version. Use .values instead.\n",
      "  from ipykernel import kernelapp as app\n"
     ]
    }
   ],
   "source": [
    "y=data['boarded']\n",
    "X = data.as_matrix()\n",
    "X=X[:-1,2:]\n",
    "y=y[:-1]\n",
    "y=np.array(y)\n",
    "print(X.shape)"
   ]
  },
  {
   "cell_type": "code",
   "execution_count": 44,
   "metadata": {},
   "outputs": [],
   "source": [
    "from sklearn.model_selection import StratifiedShuffleSplit\n",
    "sss = StratifiedShuffleSplit(n_splits=1, test_size=0.2)\n",
    "sss.get_n_splits(X, y)\n",
    "for train_index, test_index in sss.split(X, y):\n",
    "    train, y_train = X[train_index], y[train_index]\n",
    "    test, y_test = X[test_index], y[test_index]"
   ]
  },
  {
   "cell_type": "code",
   "execution_count": 45,
   "metadata": {},
   "outputs": [],
   "source": [
    "y_train=np.array(y_train)\n",
    "train=np.array(train)\n",
    "test=np.array(test)\n",
    "y_test=np.array(y_test)\n"
   ]
  },
  {
   "cell_type": "code",
   "execution_count": 25,
   "metadata": {},
   "outputs": [],
   "source": [
    "# x=np.arange(3,300,4)\n",
    "# acc_tr=[]\n",
    "# acc=[]\n",
    "# for i in x:\n",
    "#     lab=np.zeros(i)\n",
    "#     kmeans = KMeans(i)\n",
    "#     preds_tr=kmeans.fit_predict(train)\n",
    "#     preds=kmeans.predict(test)\n",
    "# #     print(preds_tr)\n",
    "#     for j in range(i):\n",
    "#         lab[j]=np.bincount(y_train[(preds_tr==j)]).argmax()  \n",
    "#     acc_tr.append(np.sum(y_train==lab[preds_tr])/y_train.shape)\n",
    "#     acc.append(np.sum(y_test==lab[preds])/y_test.shape)"
   ]
  },
  {
   "cell_type": "code",
   "execution_count": 24,
   "metadata": {},
   "outputs": [],
   "source": [
    "# fig,ax=plt.subplots()\n",
    "# ax.scatter(list(x),acc_tr,label='Train Accuracy')\n",
    "# ax.scatter(list(x),acc,color='r',label='Validation Accuracy')\n",
    "# ax.legend(loc='lower right')\n",
    "# print(train.shape)\n",
    "# fig.savefig('kmeanstrs.png')"
   ]
  },
  {
   "cell_type": "code",
   "execution_count": 22,
   "metadata": {},
   "outputs": [],
   "source": [
    "# acc_tr=[]\n",
    "# acc=[]\n",
    "# x=np.arange(1,10)\n",
    "# for i in x:\n",
    "#     clf=KNN(i)\n",
    "#     clf.fit(train,y_train)\n",
    "#     preds_tr=clf.predict(train)\n",
    "#     preds=clf.predict(test)\n",
    "#     acc_tr.append(results.accuracy(y_train, preds_tr))\n",
    "#     acc.append(results.accuracy(y_test, preds))\n",
    "# # print(acc_tr,acc_tr2)\n",
    "# print(acc,acc2)"
   ]
  },
  {
   "cell_type": "code",
   "execution_count": 23,
   "metadata": {},
   "outputs": [],
   "source": [
    "# fig,ax=plt.subplots()\n",
    "# ax.scatter(list(x),acc_tr,label='Train Accuracy')\n",
    "# ax.scatter(list(x),acc,color='r',label='Validation Accuracy')\n",
    "# ax.legend(loc='upper right')\n",
    "# # fig.savefig('knntrs.png')"
   ]
  },
  {
   "cell_type": "code",
   "execution_count": 21,
   "metadata": {},
   "outputs": [],
   "source": [
    "# n_class=y_train.max()+1\n",
    "# for j in range(n_class):\n",
    "#     fig,ax=plt.subplots()\n",
    "#     for i in range(train.shape[1]):\n",
    "#         ax.hist(list(train[(y_train==j),i]))\n",
    "#     fig.savefig('train_selection_class_cond'+str(j)+'.png')"
   ]
  },
  {
   "cell_type": "code",
   "execution_count": 105,
   "metadata": {
    "scrolled": true
   },
   "outputs": [
    {
     "name": "stdout",
     "output_type": "stream",
     "text": [
      "[0.7748091603053435] [0.8127984718242598]\n",
      "(0.7620863536085724, 0.7566666666666667, 0.7590522952225081)\n"
     ]
    }
   ],
   "source": [
    "i=7\n",
    "acc_tr=[]\n",
    "acc=[]\n",
    "clf=KNN(i)\n",
    "clf.fit(train,y_train)\n",
    "preds_tr,_=clf.predict(train)\n",
    "preds,probs_knn=clf.predict(test)\n",
    "acc_tr.append(results.accuracy(y_train, preds_tr))\n",
    "acc.append(results.accuracy(y_test, preds))\n",
    "print(acc,acc_tr)\n",
    "print(results.scores(y_test,np.asarray(preds)))"
   ]
  },
  {
   "cell_type": "code",
   "execution_count": 48,
   "metadata": {},
   "outputs": [
    {
     "name": "stderr",
     "output_type": "stream",
     "text": [
      "/home/khushal/anaconda2/envs/dl/lib/python3.6/site-packages/ipykernel/__main__.py:18: RuntimeWarning: divide by zero encountered in true_divide\n",
      "/home/khushal/anaconda2/envs/dl/lib/python3.6/site-packages/ipykernel/__main__.py:19: RuntimeWarning: invalid value encountered in true_divide\n"
     ]
    }
   ],
   "source": [
    "# k=300\n",
    "# acc_tr=[]\n",
    "# acc=[]\n",
    "# n_classes=y_train.max()+1\n",
    "# lab=np.zeros(k)\n",
    "# kmeans = KMeans(k)\n",
    "# preds_tr=kmeans.fit_predict(train)\n",
    "# # preds, probs_kmeans=kmeans.predict(test)\n",
    "# preds =kmeans.predict(test)\n",
    "# centers=kmeans.cluster_centers_\n",
    "# probs_kmeans=np.zeros((test.shape[0],k))\n",
    "\n",
    "# dist_vec=np.zeros(k)\n",
    "# for i in range(test.shape[0]):\n",
    "#                 for j in range(k):\n",
    "#                     dist_vec[j] = np.sum((test[i,:]-centers[j])**2)\n",
    "#                 probs_kmeans[i,:]=dist_vec\n",
    "# probs_kmeans=np.divide(1,probs_kmeans)\n",
    "# probs_kmeans=(probs_kmeans.T/np.sum(probs_kmeans,axis=1)).T\n",
    "# probabs_kmeans=np.zeros((test.shape[0],n_classes))\n",
    "# for j in range(k):\n",
    "#     if(y_train[(preds_tr==j)].shape[0]):\n",
    "#         lab[j]=np.bincount(y_train[(preds_tr==j)]).argmax()\n",
    "#         probabs_kmeans[:,lab[j].astype(int)]+=probs_kmeans[:,j]\n",
    "# acc_tr.append(np.sum(y_train==lab[preds_tr.astype(int)])/y_train.shape[0])\n",
    "# acc.append(np.sum(y_test==lab[preds.astype(int)])/y_test.shape[0])\n",
    "\n",
    "# probs_kmeans=probabs_kmeans"
   ]
  },
  {
   "cell_type": "code",
   "execution_count": 10,
   "metadata": {},
   "outputs": [],
   "source": [
    "# i=300\n",
    "# acc_tr=[]\n",
    "# acc=[]\n",
    "# n_classes=y_train.max()+1\n",
    "# lab=np.zeros(i)\n",
    "# kmeans = KMeans(i)\n",
    "# preds_tr=kmeans.fit_predict(train)\n",
    "# preds, probs_kmeans=kmeans.predict(test)\n",
    "# probs_kmeans=np.divide(1,probs_kmeans)\n",
    "# probs_kmeans=(probs_kmeans.T/np.sum(probs_kmeans,axis=1)).T\n",
    "# probabs_kmeans=np.zeros((test.shape[0],n_classes))\n",
    "# for j in range(i):\n",
    "#     if(y_train[(preds_tr==j)].shape[0]):\n",
    "#         lab[j]=np.bincount(y_train[(preds_tr==j)]).argmax()\n",
    "#         probabs_kmeans[:,lab[j].astype(int)]+=probs_kmeans[:,j]\n",
    "# acc_tr.append(np.sum(y_train==lab[preds_tr.astype(int)])/y_train.shape[0])\n",
    "# acc.append(np.sum(y_test==lab[preds.astype(int)])/y_test.shape[0])\n",
    "\n",
    "# probs_kmeans=probabs_kmeans"
   ]
  },
  {
   "cell_type": "code",
   "execution_count": 51,
   "metadata": {},
   "outputs": [],
   "source": [
    "# print(acc,acc_tr)\n",
    "# print(results.scores(y_test,preds))"
   ]
  },
  {
   "cell_type": "code",
   "execution_count": 110,
   "metadata": {
    "scrolled": true
   },
   "outputs": [
    {
     "name": "stdout",
     "output_type": "stream",
     "text": [
      "[0.80534351] [0.76408787]\n",
      "(0.7936473771600763, 0.7947530864197531, 0.7941869599371564)\n"
     ]
    }
   ],
   "source": [
    "clf = GaussianNB()\n",
    "clf.fit(train,y_train)\n",
    "preds_tr, probs_tr_gnb=clf.predict(train)\n",
    "preds, probs_gnb=clf.predict(test)\n",
    "acc_tr=np.sum(y_train==preds_tr)/y_train.shape\n",
    "acc=np.sum(y_test==preds)/y_test.shape\n",
    "print(acc,acc_tr)\n",
    "print(results.scores(y_test,preds))"
   ]
  },
  {
   "cell_type": "code",
   "execution_count": null,
   "metadata": {},
   "outputs": [],
   "source": [
    "clf = Parzen()\n",
    "clf.fit(train,y_train)\n",
    "preds_tr, probs_tr_gnb=clf.predict(train)\n",
    "preds, probs_gnb=clf.predict(test)\n",
    "acc_tr=np.sum(y_train==preds_tr)/y_train.shape\n",
    "acc=np.sum(y_test==preds)/y_test.shape\n",
    "print(acc,acc_tr)\n",
    "print(results.scores(y_test,preds))"
   ]
  },
  {
   "cell_type": "code",
   "execution_count": 112,
   "metadata": {},
   "outputs": [
    {
     "name": "stdout",
     "output_type": "stream",
     "text": [
      "[0.80534351] [0.77459408]\n",
      "(0.7951150330917114, 0.7890123456790124, 0.7917231704465747)\n"
     ]
    }
   ],
   "source": [
    "clf = GaussianBayes()\n",
    "clf.fit(train,y_train)\n",
    "preds_tr, probs_tr_gb=clf.predict(train)\n",
    "preds, probs_gb=clf.predict(test)\n",
    "acc_tr=np.sum(y_train==preds_tr)/y_train.shape\n",
    "acc=np.sum(y_test==preds)/y_test.shape\n",
    "print(acc,acc_tr)\n",
    "print(results.scores(y_test,preds))"
   ]
  },
  {
   "cell_type": "code",
   "execution_count": 58,
   "metadata": {},
   "outputs": [
    {
     "name": "stdout",
     "output_type": "stream",
     "text": [
      "[[0.09625    0.47875    0.6925     0.265625  ]\n",
      " [0.08330757 0.75734158 0.16074189 0.2492272 ]]\n",
      "[0.3816793893129771] [0.38204393505253104]\n",
      "(0.3816793893129771, 0.808641975308642, 0.5120921505264255)\n"
     ]
    }
   ],
   "source": [
    "acc_tr=[]\n",
    "acc=[]\n",
    "clf=BinomialNB(4)\n",
    "clf.fit(train[:,1:],y_train)\n",
    "preds_tr,_=clf.predict(train[:,1:])\n",
    "preds,probs_bnb=clf.predict(test[:,1:])\n",
    "acc_tr.append(results.accuracy(y_train, preds_tr))\n",
    "acc.append(results.accuracy(y_test, preds))\n",
    "print(acc,acc_tr)\n",
    "print(results.scores(y_test,preds))"
   ]
  },
  {
   "cell_type": "code",
   "execution_count": 113,
   "metadata": {},
   "outputs": [],
   "source": [
    "for i in range(len(probs_knn)):\n",
    "    while(probs_knn[i].shape[0]<3):\n",
    "        probs_knn[i]=np.append(probs_knn[i],[0.00])\n",
    "\n",
    "probs_knn=np.asarray(probs_knn)"
   ]
  },
  {
   "cell_type": "code",
   "execution_count": 137,
   "metadata": {},
   "outputs": [
    {
     "name": "stdout",
     "output_type": "stream",
     "text": [
      "(262,) (262, 2)\n",
      "(262, 2)\n",
      "(262, 2)\n",
      "(262, 2)\n",
      "(262, 2)\n"
     ]
    },
    {
     "data": {
      "text/plain": [
       "<matplotlib.legend.Legend at 0x7f42476810f0>"
      ]
     },
     "execution_count": 137,
     "metadata": {},
     "output_type": "execute_result"
    },
    {
     "data": {
      "image/png": "[encoded data removed]",
      "text/plain": [
       "<Figure size 432x288 with 1 Axes>"
      ]
     },
     "metadata": {},
     "output_type": "display_data"
    }
   ],
   "source": [
    "fig,ax=plt.subplots()\n",
    "ax.set_xlabel('False Positive Rate')\n",
    "ax.set_ylabel('True Positive Rate')\n",
    "ax.set_title('Receiver operating characteristic -multi-class')\n",
    "print(y_test.shape,probs_gb.shape)\n",
    "results.multiclass_roc_curve(y_test,probs_gb,ax,'gaussian bayes')\n",
    "results.multiclass_roc_curve(y_test,probs_knn,ax,'knn')\n",
    "results.multiclass_roc_curve(y_test,probs_kmeans,ax,'kmeans')\n",
    "results.multiclass_roc_curve(y_test,probs_gnb,ax,'gaussiannb')\n",
    "# # results.multiclass_roc_curve(y_test,probs_bnb,ax,'binomial plus gaussian')\n",
    "ax.legend(loc=\"lower right\")"
   ]
  },
  {
   "cell_type": "code",
   "execution_count": 138,
   "metadata": {},
   "outputs": [],
   "source": [
    "fig.savefig('roctrs')"
   ]
  },
  {
   "cell_type": "markdown",
   "metadata": {},
   "source": [
    "# FINAL RESULTS"
   ]
  },
  {
   "cell_type": "markdown",
   "metadata": {},
   "source": [
    "|Dataset| Classifier  |   Parameter | Accuracy |Precision | Recall | F1-score |\n",
    "|--------|:-------:|-----|-------|------|-------|-------|\n",
    "|Medical Data|KNeighbours|9| 89.5| 89.85|89.5| 89.57| \n",
    "|Medical Data|Gaussian Bayes|-|89.76 |89.95 |89.76| 89.81| \n",
    "|Medical Data|Gaussian Mixture Model Naive Bayes|2| 89.86| 90.00|89.86| 89.90| \n",
    "|Medical Data|Gaussian NB|-| 89.86| 90.00|89.86| 89.90|  \n",
    "|Medical Data|KMeans|50| 86.93| 87.91|86.93| 86.95| \n",
    "|Medical Data|Parzen Window|| 90.1| 89.6|89.7| 89.3| \n",
    "|Train Selection Data|KNeighbours|7| 77.48| 76.20|75.66| 75.90| \n",
    "|Train Selection Data|Gaussian Bayes|-| 80.53|79.51 |78.9|79.17 | \n",
    "|Train Selection Data|Gaussian NB|-| 80.53|79.36 |79.47|79.41 | \n",
    "|Train Selection Data|Bionomial NB||38.16 | 381.6|80.86| 51.2| \n",
    "|Train Selection Data|KMeans|300| 71.75| 71.87 | 71.75| 71.46| \n",
    "|Train Selection Data|KMeans|300| 71.75| 71.87 | 71.75| 71.46| \n",
    "|Train Selection Data|Parzen Window|| 75.1|74.7|74.9| 74.85| \n",
    "|Fashion-MNIST|KNeighbours|9| 85.3|85.336 |85.3| 85.24| \n",
    "|Fashion-MNIST|Gaussian Bayes|-| 79.85|80.16 |79.85| 79.29| \n",
    "|Fashion-MNIST|Gaussian NB|-|75.91 |76 |75.9| 75.86| \n",
    "|Fashion-MNIST|KMeans|150| 75.16|74.82 |75.16| 74.73|\n",
    "|Fashion-MNIST|KMeans|150| 75.16|74.82 |75.16| 74.73|"
   ]
  },
  {
   "cell_type": "code",
   "execution_count": null,
   "metadata": {
    "collapsed": true
   },
   "outputs": [],
   "source": []
  }
 ],
 "metadata": {
  "kernelspec": {
   "display_name": "Python [conda env:dl]",
   "language": "python",
   "name": "conda-env-dl-py"
  },
  "language_info": {
   "codemirror_mode": {
    "name": "ipython",
    "version": 3
   },
   "file_extension": ".py",
   "mimetype": "text/x-python",
   "name": "python",
   "nbconvert_exporter": "python",
   "pygments_lexer": "ipython3",
   "version": "3.6.4"
  }
 },
 "nbformat": 4,
 "nbformat_minor": 2
}
