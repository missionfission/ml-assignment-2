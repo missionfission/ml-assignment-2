{
 "cells": [
  {
   "cell_type": "code",
   "execution_count": 1,
   "metadata": {},
   "outputs": [],
   "source": [
    "import json\n",
    "import random\n",
    "import time\n",
    "import math\n",
    "from ast import literal_eval as make_tuple\n",
    "import numpy as np\n",
    "import pandas as pd\n",
    "# import psutil\n",
    "from utils import mnist_reader\n",
    "import pdb\n",
    "import matplotlib.pyplot as plt\n",
    "%matplotlib inline"
   ]
  },
  {
   "cell_type": "code",
   "execution_count": 2,
   "metadata": {},
   "outputs": [
    {
     "name": "stdout",
     "output_type": "stream",
     "text": [
      "[['HEALTHY' 1.6315155608144196 -0.26444658130172355 2.534567146651425]\n",
      " ['SURGERY' 0.15395105426389907 1.419533481505174 1.3331207912724836]\n",
      " ['HEALTHY' 2.021729118164318 0.26204637889999405 2.8799717380508727]\n",
      " ...\n",
      " ['HEALTHY' 0.19320188275265227 0.36039894430698144 1.8676445668171464]\n",
      " ['HEALTHY' 1.6840959730399991 -0.02321819895892971 3.306257682435044]\n",
      " ['MEDICATION' 0.9752179047232428 2.305958926888452 0.22982688347681815]]\n",
      "(3000,)\n"
     ]
    },
    {
     "name": "stderr",
     "output_type": "stream",
     "text": [
      "c:\\users\\sarve\\appdata\\local\\programs\\python\\python37-32\\lib\\site-packages\\ipykernel_launcher.py:2: FutureWarning: Method .as_matrix will be removed in a future version. Use .values instead.\n",
      "  \n"
     ]
    }
   ],
   "source": [
    "data = pd.read_csv('Medical_data.csv')\n",
    "X = data.as_matrix()\n",
    "print(X)\n",
    "y=np.empty(X.shape[0])\n",
    "for i in range(X.shape[0]):\n",
    "    if(X[i,0]=='HEALTHY'):\n",
    "        y[i]=0\n",
    "    if(X[i,0]=='SURGERY'):\n",
    "        y[i]=1\n",
    "    if(X[i,0]=='MEDICATION'):\n",
    "        y[i]=2\n",
    "print(y.shape)\n",
    "X = X[:,1:4]\n",
    "y=np.array(y,dtype='int')"
   ]
  },
  {
   "cell_type": "code",
   "execution_count": 3,
   "metadata": {},
   "outputs": [
    {
     "name": "stdout",
     "output_type": "stream",
     "text": [
      "(3000,)\n"
     ]
    },
    {
     "name": "stderr",
     "output_type": "stream",
     "text": [
      "c:\\users\\sarve\\appdata\\local\\programs\\python\\python37-32\\lib\\site-packages\\ipykernel_launcher.py:2: FutureWarning: Method .as_matrix will be removed in a future version. Use .values instead.\n",
      "  \n"
     ]
    }
   ],
   "source": [
    "data_test = pd.read_csv('test_medical.csv')\n",
    "X_test = data_test.as_matrix()\n",
    "# print(X)\n",
    "y_test=np.empty(X_test.shape[0])\n",
    "for i in range(X_test.shape[0]):\n",
    "    if(X_test[i,0]=='HEALTHY'):\n",
    "        y_test[i]=0\n",
    "    if(X_test[i,0]=='SURGERY'):\n",
    "        y_test[i]=1\n",
    "    if(X_test[i,0]=='MEDICATION'):\n",
    "        y_test[i]=2\n",
    "print(y_test.shape)  \n",
    "X_test = X_test[:,1:4]\n",
    "y_test=np.array(y_test,dtype='int')"
   ]
  },
  {
   "cell_type": "code",
   "execution_count": 4,
   "metadata": {},
   "outputs": [
    {
     "name": "stdout",
     "output_type": "stream",
     "text": [
      "[0 1 0 ... 0 0 2]\n"
     ]
    }
   ],
   "source": [
    "train=X\n",
    "y_train=y\n",
    "test=X_test\n",
    "print(y_train)"
   ]
  },
  {
   "cell_type": "code",
   "execution_count": 5,
   "metadata": {},
   "outputs": [
    {
     "name": "stdout",
     "output_type": "stream",
     "text": [
      "(3000, 3) (3000,)\n"
     ]
    }
   ],
   "source": [
    "print(train.shape,y_train.shape)"
   ]
  },
  {
   "cell_type": "code",
   "execution_count": 6,
   "metadata": {},
   "outputs": [],
   "source": [
    "num_classes = 3\n",
    "num_features = 3\n",
    "mean_train0 = []\n",
    "mean_train1 = []\n",
    "var_train0 =  []\n",
    "var_train1 =  []\n",
    "mean_diff = []\n",
    "w = []"
   ]
  },
  {
   "cell_type": "code",
   "execution_count": 7,
   "metadata": {},
   "outputs": [],
   "source": [
    "for i in range(num_classes):\n",
    "    mean_train0.append(np.mean(train[y_train!=i], axis = 0))\n",
    "    mean_train1.append(np.mean(train[y_train==i], axis = 0))\n",
    "    var_train0.append(np.cov(train[y_train!=i].T.astype(float)))\n",
    "    var_train1.append(np.cov(train[y_train==i].T.astype(float)))\n",
    "    mean_diff.append((mean_train1[i] - mean_train0[0]).T)"
   ]
  },
  {
   "cell_type": "code",
   "execution_count": 8,
   "metadata": {},
   "outputs": [],
   "source": [
    "for i in range(num_classes):\n",
    "    w.append(np.dot(np.linalg.inv(var_train0[i] + var_train1[i]), mean_diff[i]))"
   ]
  },
  {
   "cell_type": "code",
   "execution_count": 9,
   "metadata": {},
   "outputs": [
    {
     "name": "stdout",
     "output_type": "stream",
     "text": [
      "[array([0.7210192596875236, -0.4613337106508207, 0.6481672092773948],\n",
      "      dtype=object), array([-0.44167446855461057, 0.13224190791906404, 0.32644461958156185],\n",
      "      dtype=object), array([0.1995561632342897, -0.04365325157523692, -0.5387281355419734],\n",
      "      dtype=object)]\n"
     ]
    }
   ],
   "source": [
    "print(w)"
   ]
  },
  {
   "cell_type": "code",
   "execution_count": 10,
   "metadata": {},
   "outputs": [],
   "source": [
    "y_flda = np.zeros((train.shape[0],num_classes))\n",
    "for i in range(num_classes):\n",
    "    y_flda[:,i] = np.dot(test, w[i])"
   ]
  },
  {
   "cell_type": "code",
   "execution_count": 11,
   "metadata": {},
   "outputs": [],
   "source": [
    "y_flda = np.argmax(y_flda, axis = 1)"
   ]
  },
  {
   "cell_type": "code",
   "execution_count": 12,
   "metadata": {},
   "outputs": [
    {
     "data": {
      "text/plain": [
       "1034"
      ]
     },
     "execution_count": 12,
     "metadata": {},
     "output_type": "execute_result"
    }
   ],
   "source": [
    "np.sum(y_flda == y_train)"
   ]
  },
  {
   "cell_type": "code",
   "execution_count": 13,
   "metadata": {},
   "outputs": [
    {
     "data": {
      "text/plain": [
       "(3000,)"
      ]
     },
     "execution_count": 13,
     "metadata": {},
     "output_type": "execute_result"
    }
   ],
   "source": [
    "y_train.shape"
   ]
  },
  {
   "cell_type": "code",
   "execution_count": 14,
   "metadata": {},
   "outputs": [
    {
     "name": "stderr",
     "output_type": "stream",
     "text": [
      "c:\\users\\sarve\\appdata\\local\\programs\\python\\python37-32\\lib\\site-packages\\ipykernel_launcher.py:5: SettingWithCopyWarning: \n",
      "A value is trying to be set on a copy of a slice from a DataFrame\n",
      "\n",
      "See the caveats in the documentation: http://pandas.pydata.org/pandas-docs/stable/indexing.html#indexing-view-versus-copy\n",
      "  \"\"\"\n",
      "c:\\users\\sarve\\appdata\\local\\programs\\python\\python37-32\\lib\\site-packages\\ipykernel_launcher.py:6: SettingWithCopyWarning: \n",
      "A value is trying to be set on a copy of a slice from a DataFrame\n",
      "\n",
      "See the caveats in the documentation: http://pandas.pydata.org/pandas-docs/stable/indexing.html#indexing-view-versus-copy\n",
      "  \n",
      "c:\\users\\sarve\\appdata\\local\\programs\\python\\python37-32\\lib\\site-packages\\ipykernel_launcher.py:7: SettingWithCopyWarning: \n",
      "A value is trying to be set on a copy of a slice from a DataFrame\n",
      "\n",
      "See the caveats in the documentation: http://pandas.pydata.org/pandas-docs/stable/indexing.html#indexing-view-versus-copy\n",
      "  import sys\n"
     ]
    }
   ],
   "source": [
    "data = pd.read_csv('railwayBookingList.csv')\n",
    "\n",
    "dict_class={'FIRST_AC':0,'SECOND_AC':1,'THIRD_AC':2,'NO_PREF':3}\n",
    "for i in range(data.shape[0]):\n",
    "    data['preferredClass'][i]=dict_class[data['preferredClass'][i]]\n",
    "data['sex'][(data['sex']=='male')]=0\n",
    "data['sex'][(data['sex']=='female')]=1\n"
   ]
  },
  {
   "cell_type": "code",
   "execution_count": 15,
   "metadata": {},
   "outputs": [
    {
     "name": "stderr",
     "output_type": "stream",
     "text": [
      "c:\\users\\sarve\\appdata\\local\\programs\\python\\python37-32\\lib\\site-packages\\ipykernel_launcher.py:3: SettingWithCopyWarning: \n",
      "A value is trying to be set on a copy of a slice from a DataFrame\n",
      "\n",
      "See the caveats in the documentation: http://pandas.pydata.org/pandas-docs/stable/indexing.html#indexing-view-versus-copy\n",
      "  This is separate from the ipykernel package so we can avoid doing imports until\n"
     ]
    }
   ],
   "source": [
    "sorted_b=np.sort(np.array(data['budget'].unique()))\n",
    "for x,i in enumerate(sorted_b):\n",
    "        data['budget'][data['budget']==i]=x"
   ]
  },
  {
   "cell_type": "code",
   "execution_count": 16,
   "metadata": {},
   "outputs": [
    {
     "data": {
      "text/html": [
       "<div>\n",
       "<style scoped>\n",
       "    .dataframe tbody tr th:only-of-type {\n",
       "        vertical-align: middle;\n",
       "    }\n",
       "\n",
       "    .dataframe tbody tr th {\n",
       "        vertical-align: top;\n",
       "    }\n",
       "\n",
       "    .dataframe thead th {\n",
       "        text-align: right;\n",
       "    }\n",
       "</style>\n",
       "<table border=\"1\" class=\"dataframe\">\n",
       "  <thead>\n",
       "    <tr style=\"text-align: right;\">\n",
       "      <th></th>\n",
       "      <th>caseID</th>\n",
       "      <th>boarded</th>\n",
       "      <th>budget</th>\n",
       "      <th>memberCount</th>\n",
       "      <th>preferredClass</th>\n",
       "      <th>sex</th>\n",
       "      <th>age</th>\n",
       "    </tr>\n",
       "  </thead>\n",
       "  <tbody>\n",
       "    <tr>\n",
       "      <th>0</th>\n",
       "      <td>111131089</td>\n",
       "      <td>0</td>\n",
       "      <td>17</td>\n",
       "      <td>0</td>\n",
       "      <td>0</td>\n",
       "      <td>1</td>\n",
       "      <td>2</td>\n",
       "    </tr>\n",
       "    <tr>\n",
       "      <th>1</th>\n",
       "      <td>2489059216</td>\n",
       "      <td>0</td>\n",
       "      <td>15</td>\n",
       "      <td>3</td>\n",
       "      <td>0</td>\n",
       "      <td>0</td>\n",
       "      <td>0</td>\n",
       "    </tr>\n",
       "    <tr>\n",
       "      <th>2</th>\n",
       "      <td>1565109576</td>\n",
       "      <td>1</td>\n",
       "      <td>15</td>\n",
       "      <td>3</td>\n",
       "      <td>0</td>\n",
       "      <td>1</td>\n",
       "      <td>0</td>\n",
       "    </tr>\n",
       "    <tr>\n",
       "      <th>3</th>\n",
       "      <td>1373075087</td>\n",
       "      <td>1</td>\n",
       "      <td>15</td>\n",
       "      <td>3</td>\n",
       "      <td>0</td>\n",
       "      <td>0</td>\n",
       "      <td>3</td>\n",
       "    </tr>\n",
       "    <tr>\n",
       "      <th>4</th>\n",
       "      <td>1598041082</td>\n",
       "      <td>1</td>\n",
       "      <td>15</td>\n",
       "      <td>3</td>\n",
       "      <td>0</td>\n",
       "      <td>1</td>\n",
       "      <td>2</td>\n",
       "    </tr>\n",
       "  </tbody>\n",
       "</table>\n",
       "</div>"
      ],
      "text/plain": [
       "       caseID  boarded  budget  memberCount preferredClass sex  age\n",
       "0   111131089        0      17            0              0   1    2\n",
       "1  2489059216        0      15            3              0   0    0\n",
       "2  1565109576        1      15            3              0   1    0\n",
       "3  1373075087        1      15            3              0   0    3\n",
       "4  1598041082        1      15            3              0   1    2"
      ]
     },
     "execution_count": 16,
     "metadata": {},
     "output_type": "execute_result"
    }
   ],
   "source": [
    "data.head()"
   ]
  },
  {
   "cell_type": "code",
   "execution_count": 17,
   "metadata": {},
   "outputs": [
    {
     "name": "stdout",
     "output_type": "stream",
     "text": [
      "(1309, 5)\n"
     ]
    },
    {
     "name": "stderr",
     "output_type": "stream",
     "text": [
      "c:\\users\\sarve\\appdata\\local\\programs\\python\\python37-32\\lib\\site-packages\\ipykernel_launcher.py:2: FutureWarning: Method .as_matrix will be removed in a future version. Use .values instead.\n",
      "  \n"
     ]
    }
   ],
   "source": [
    "y=data['boarded']\n",
    "X = data.as_matrix()\n",
    "X=X[:-1,2:]\n",
    "y=y[:-1]\n",
    "y=np.array(y)\n",
    "print(X.shape)"
   ]
  },
  {
   "cell_type": "code",
   "execution_count": 18,
   "metadata": {},
   "outputs": [],
   "source": [
    "from sklearn.model_selection import StratifiedShuffleSplit\n",
    "sss = StratifiedShuffleSplit(n_splits=1, test_size=0.2)\n",
    "sss.get_n_splits(X, y)\n",
    "for train_index, test_index in sss.split(X, y):\n",
    "    train, y_train = X[train_index], y[train_index]\n",
    "    test, y_test = X[test_index], y[test_index]"
   ]
  },
  {
   "cell_type": "code",
   "execution_count": 19,
   "metadata": {},
   "outputs": [],
   "source": [
    "y_train=np.array(y_train)\n",
    "train=np.array(train)\n",
    "test=np.array(test)\n",
    "y_test=np.array(y_test)\n"
   ]
  },
  {
   "cell_type": "code",
   "execution_count": 54,
   "metadata": {},
   "outputs": [],
   "source": [
    "class FLDA():\n",
    "    def predict(self,test):\n",
    "        y_flda = np.zeros((test.shape[0],self.n_classes))\n",
    "        #print(y_flda.shape)\n",
    "        for i in range(self.n_classes):\n",
    "            y_flda[:,i] = np.dot(test, self.w[i])\n",
    "        y_flda = np.argmax(y_flda, axis = 1)\n",
    "        print(y_flda)\n",
    "        return y_flda\n",
    "\n",
    "    def fit(self, train,y_train):\n",
    "        self.n_classes = np.max(y)+1\n",
    "        self.n_features=train.shape[1]\n",
    "\n",
    "        mean_train0 = []\n",
    "        mean_train1 = []\n",
    "        var_train0 =  []\n",
    "        var_train1 =  []\n",
    "        mean_diff = []\n",
    "        self.w = []\n",
    "\n",
    "        for i in range(self.n_classes):\n",
    "            mean_train0.append(np.mean(train[y_train!=i], axis = 0))\n",
    "            mean_train1.append(np.mean(train[y_train==i], axis = 0))\n",
    "            var_train0.append(np.cov(train[y_train!=i].T.astype(float)))\n",
    "            var_train1.append(np.cov(train[y_train==i].T.astype(float)))\n",
    "            mean_diff.append((mean_train1[i] - mean_train0[i]).T)\n",
    "        for i in range(self.n_classes):\n",
    "            self.w.append(np.dot(np.linalg.inv(var_train0[i] + var_train1[i]), mean_diff[i]))\n",
    "        print(self.w[0].shape)"
   ]
  },
  {
   "cell_type": "code",
   "execution_count": 32,
   "metadata": {},
   "outputs": [],
   "source": [
    "fld = FLDA()"
   ]
  },
  {
   "cell_type": "code",
   "execution_count": 33,
   "metadata": {},
   "outputs": [
    {
     "name": "stdout",
     "output_type": "stream",
     "text": [
      "(5,)\n"
     ]
    }
   ],
   "source": [
    "fld.fit(train, y_train)"
   ]
  },
  {
   "cell_type": "code",
   "execution_count": 34,
   "metadata": {},
   "outputs": [
    {
     "data": {
      "text/plain": [
       "(262, 5)"
      ]
     },
     "execution_count": 34,
     "metadata": {},
     "output_type": "execute_result"
    }
   ],
   "source": [
    "test.shape"
   ]
  },
  {
   "cell_type": "code",
   "execution_count": 38,
   "metadata": {},
   "outputs": [
    {
     "name": "stdout",
     "output_type": "stream",
     "text": [
      "[1 0 0 1 1 1 1 0 1 1 1 0 1 1 1 1 1 0 1 1 1 0 1 1 1 1 1 1 1 1 1 0 0 1 1 1 1\n",
      " 0 0 0 0 1 0 1 1 1 0 0 0 1 0 0 1 1 0 0 1 1 1 1 1 1 0 0 1 0 1 1 1 0 0 0 1 0\n",
      " 1 1 0 1 0 0 1 1 1 1 0 1 0 0 1 0 0 0 1 0 1 1 1 1 1 1 1 1 1 1 1 1 1 1 0 1 0\n",
      " 1 1 0 0 0 1 1 1 0 0 1 1 1 1 0 1 1 1 1 0 1 1 1 0 1 1 1 1 0 0 1 0 0 1 1 0 1\n",
      " 0 0 1 1 1 1 1 0 0 1 1 0 0 1 1 0 0 1 0 1 1 1 1 1 1 0 1 1 1 0 1 1 0 0 0 1 1\n",
      " 0 1 0 0 1 0 1 0 0 1 1 1 0 1 1 1 0 1 1 1 0 1 0 1 1 1 1 1 0 1 0 1 0 1 1 1 1\n",
      " 1 0 1 1 1 1 0 1 1 1 1 0 1 0 1 1 1 0 0 0 1 0 1 0 1 1 0 0 1 1 1 0 0 0 1 1 1\n",
      " 0 0 0]\n"
     ]
    }
   ],
   "source": [
    "y_pred = fld.predict(test)"
   ]
  },
  {
   "cell_type": "code",
   "execution_count": 44,
   "metadata": {},
   "outputs": [],
   "source": [
    "from performance_measures import *"
   ]
  },
  {
   "cell_type": "code",
   "execution_count": 40,
   "metadata": {},
   "outputs": [
    {
     "data": {
      "text/plain": [
       "78.62595419847328"
      ]
     },
     "execution_count": 40,
     "metadata": {},
     "output_type": "execute_result"
    }
   ],
   "source": [
    "accuracy(y_pred, y_test)"
   ]
  },
  {
   "cell_type": "code",
   "execution_count": 42,
   "metadata": {},
   "outputs": [
    {
     "name": "stdout",
     "output_type": "stream",
     "text": [
      "[[ 70.  30.]\n",
      " [ 26. 136.]]\n"
     ]
    }
   ],
   "source": [
    "cmat = confusion_matrix(range(2), y_pred, y_test)\n",
    "print(cmat)"
   ]
  },
  {
   "cell_type": "code",
   "execution_count": 43,
   "metadata": {},
   "outputs": [
    {
     "data": {
      "text/plain": [
       "array([0.72916667, 0.81927711])"
      ]
     },
     "execution_count": 43,
     "metadata": {},
     "output_type": "execute_result"
    }
   ],
   "source": [
    "precision(cmat)"
   ]
  },
  {
   "cell_type": "code",
   "execution_count": 44,
   "metadata": {},
   "outputs": [
    {
     "data": {
      "text/plain": [
       "array([0.7       , 0.83950617])"
      ]
     },
     "execution_count": 44,
     "metadata": {},
     "output_type": "execute_result"
    }
   ],
   "source": [
    "recall(cmat)"
   ]
  },
  {
   "cell_type": "code",
   "execution_count": 45,
   "metadata": {},
   "outputs": [
    {
     "data": {
      "text/plain": [
       "array([0.71428571, 0.82926829])"
      ]
     },
     "execution_count": 45,
     "metadata": {},
     "output_type": "execute_result"
    }
   ],
   "source": [
    "fscore(recall(cmat), precision(cmat))"
   ]
  },
  {
   "cell_type": "code",
   "execution_count": 35,
   "metadata": {},
   "outputs": [
    {
     "name": "stdout",
     "output_type": "stream",
     "text": [
      "[['HEALTHY' 1.6315155608144196 -0.26444658130172355 2.534567146651425]\n",
      " ['SURGERY' 0.15395105426389907 1.419533481505174 1.3331207912724836]\n",
      " ['HEALTHY' 2.021729118164318 0.26204637889999405 2.8799717380508727]\n",
      " ...\n",
      " ['HEALTHY' 0.19320188275265227 0.36039894430698144 1.8676445668171464]\n",
      " ['HEALTHY' 1.6840959730399991 -0.02321819895892971 3.306257682435044]\n",
      " ['MEDICATION' 0.9752179047232428 2.305958926888452 0.22982688347681815]]\n",
      "(3000,)\n"
     ]
    },
    {
     "name": "stderr",
     "output_type": "stream",
     "text": [
      "c:\\users\\sarve\\appdata\\local\\programs\\python\\python37-32\\lib\\site-packages\\ipykernel_launcher.py:2: FutureWarning: Method .as_matrix will be removed in a future version. Use .values instead.\n",
      "  \n"
     ]
    }
   ],
   "source": [
    "data = pd.read_csv('Medical_data.csv')\n",
    "X = data.as_matrix()\n",
    "print(X)\n",
    "y=np.empty(X.shape[0])\n",
    "for i in range(X.shape[0]):\n",
    "    if(X[i,0]=='HEALTHY'):\n",
    "        y[i]=0\n",
    "    if(X[i,0]=='SURGERY'):\n",
    "        y[i]=1\n",
    "    if(X[i,0]=='MEDICATION'):\n",
    "        y[i]=2\n",
    "print(y.shape)\n",
    "X = X[:,1:4]\n",
    "y=np.array(y,dtype='int')"
   ]
  },
  {
   "cell_type": "code",
   "execution_count": 36,
   "metadata": {},
   "outputs": [
    {
     "name": "stdout",
     "output_type": "stream",
     "text": [
      "(3000,)\n"
     ]
    },
    {
     "name": "stderr",
     "output_type": "stream",
     "text": [
      "c:\\users\\sarve\\appdata\\local\\programs\\python\\python37-32\\lib\\site-packages\\ipykernel_launcher.py:2: FutureWarning: Method .as_matrix will be removed in a future version. Use .values instead.\n",
      "  \n"
     ]
    }
   ],
   "source": [
    "data_test = pd.read_csv('test_medical.csv')\n",
    "X_test = data_test.as_matrix()\n",
    "# print(X)\n",
    "y_test=np.empty(X_test.shape[0])\n",
    "for i in range(X_test.shape[0]):\n",
    "    if(X_test[i,0]=='HEALTHY'):\n",
    "        y_test[i]=0\n",
    "    if(X_test[i,0]=='SURGERY'):\n",
    "        y_test[i]=1\n",
    "    if(X_test[i,0]=='MEDICATION'):\n",
    "        y_test[i]=2\n",
    "print(y_test.shape)  \n",
    "X_test = X_test[:,1:4]\n",
    "y_test=np.array(y_test,dtype='int')"
   ]
  },
  {
   "cell_type": "code",
   "execution_count": 37,
   "metadata": {},
   "outputs": [
    {
     "name": "stdout",
     "output_type": "stream",
     "text": [
      "[0 1 0 ... 0 0 2]\n"
     ]
    }
   ],
   "source": [
    "train=X\n",
    "y_train=y\n",
    "test=X_test\n",
    "print(y_train)"
   ]
  },
  {
   "cell_type": "code",
   "execution_count": 38,
   "metadata": {},
   "outputs": [
    {
     "name": "stdout",
     "output_type": "stream",
     "text": [
      "(3000, 3) (3000,)\n"
     ]
    }
   ],
   "source": [
    "print(train.shape,y_train.shape)"
   ]
  },
  {
   "cell_type": "code",
   "execution_count": 39,
   "metadata": {},
   "outputs": [
    {
     "name": "stdout",
     "output_type": "stream",
     "text": [
      "[0 0 0 ... 0 1 2]\n"
     ]
    }
   ],
   "source": [
    "print(y_test)"
   ]
  },
  {
   "cell_type": "code",
   "execution_count": 40,
   "metadata": {},
   "outputs": [],
   "source": [
    "fld_medical = FLDA()"
   ]
  },
  {
   "cell_type": "code",
   "execution_count": 33,
   "metadata": {},
   "outputs": [],
   "source": [
    "var_train = np.cov(train.T.astype(float))"
   ]
  },
  {
   "cell_type": "code",
   "execution_count": null,
   "metadata": {},
   "outputs": [],
   "source": []
  },
  {
   "cell_type": "code",
   "execution_count": null,
   "metadata": {},
   "outputs": [],
   "source": []
  },
  {
   "cell_type": "code",
   "execution_count": null,
   "metadata": {},
   "outputs": [],
   "source": []
  },
  {
   "cell_type": "code",
   "execution_count": null,
   "metadata": {},
   "outputs": [],
   "source": []
  },
  {
   "cell_type": "code",
   "execution_count": 41,
   "metadata": {},
   "outputs": [
    {
     "name": "stdout",
     "output_type": "stream",
     "text": [
      "(3,)\n"
     ]
    }
   ],
   "source": [
    "fld_medical.fit(train, y_train)"
   ]
  },
  {
   "cell_type": "code",
   "execution_count": 42,
   "metadata": {},
   "outputs": [
    {
     "name": "stdout",
     "output_type": "stream",
     "text": [
      "[1 0 0 ... 0 0 0]\n"
     ]
    }
   ],
   "source": [
    "y_pred = fld_medical.predict(test)"
   ]
  },
  {
   "cell_type": "code",
   "execution_count": 45,
   "metadata": {},
   "outputs": [
    {
     "data": {
      "text/plain": [
       "59.233333333333334"
      ]
     },
     "execution_count": 45,
     "metadata": {},
     "output_type": "execute_result"
    }
   ],
   "source": [
    "accuracy(y_pred, y_test)"
   ]
  },
  {
   "cell_type": "code",
   "execution_count": 46,
   "metadata": {},
   "outputs": [
    {
     "name": "stdout",
     "output_type": "stream",
     "text": [
      "[0 1 0 ... 0 0 0]\n"
     ]
    }
   ],
   "source": [
    "y_pred = fld_medical.predict(train)"
   ]
  },
  {
   "cell_type": "code",
   "execution_count": 63,
   "metadata": {},
   "outputs": [
    {
     "name": "stdout",
     "output_type": "stream",
     "text": [
      "[[990.  10.   0.]\n",
      " [351. 609.  40.]\n",
      " [490. 328. 182.]]\n"
     ]
    }
   ],
   "source": [
    "cmat = confusion_matrix(range(3), y_pred, y_test)\n",
    "print(cmat)"
   ]
  },
  {
   "cell_type": "code",
   "execution_count": 64,
   "metadata": {},
   "outputs": [
    {
     "name": "stdout",
     "output_type": "stream",
     "text": [
      "[0.54068815 0.64308342 0.81981982]\n",
      "[0.99  0.609 0.182]\n",
      "[0.69939951 0.62557781 0.29787234]\n"
     ]
    }
   ],
   "source": [
    "print(precision(cmat))\n",
    "print(recall(cmat))\n",
    "print(fscore(recall(cmat), precision(cmat)))"
   ]
  },
  {
   "cell_type": "code",
   "execution_count": 72,
   "metadata": {},
   "outputs": [],
   "source": [
    "def scores(y_true,y_pred):\n",
    "        tp =(y_true == y_pred)\n",
    "        tp_sum=np.bincount(y_true[tp].astype(int))\n",
    "        pred_sum=np.bincount(y_pred.astype(int))\n",
    "        true_sum=np.bincount(y_true.astype(int))\n",
    "        precision = tp_sum/pred_sum\n",
    "        recall = tp_sum/true_sum\n",
    "        f_score = ((2) * precision * recall /\n",
    "                   (precision + recall))\n",
    "        precision = np.average(precision)\n",
    "        recall = np.average(recall)\n",
    "        f_score = np.average(f_score)\n",
    "\n",
    "        return precision, recall, f_score"
   ]
  },
  {
   "cell_type": "code",
   "execution_count": 73,
   "metadata": {},
   "outputs": [
    {
     "data": {
      "text/plain": [
       "(0.6678637965676802, 0.5936666666666667, 0.5409498859730396)"
      ]
     },
     "execution_count": 73,
     "metadata": {},
     "output_type": "execute_result"
    }
   ],
   "source": [
    "scores(y_test, y_pred)"
   ]
  },
  {
   "cell_type": "code",
   "execution_count": 55,
   "metadata": {},
   "outputs": [],
   "source": [
    "DATA_DIR='data/fashion/'\n",
    "train, y_train = mnist_reader.load_mnist(path=DATA_DIR, kind='train')\n",
    "test, y_test = mnist_reader.load_mnist(path=DATA_DIR, kind='t10k')"
   ]
  },
  {
   "cell_type": "code",
   "execution_count": 56,
   "metadata": {},
   "outputs": [],
   "source": [
    "class PCA:\n",
    "    def __init__(self,n_components,*args):\n",
    "        self.n=n_components\n",
    "    def fit_transform(self,X):\n",
    "        return self.fit(X)\n",
    "    def fit(self,copy):\n",
    "        X=copy\n",
    "        self.mean = np.mean(X, axis=0)\n",
    "        X = X-self.mean\n",
    "        C=np.cov(X.T)\n",
    "#         pdb.set_trace()\n",
    "        U, V=np.linalg.eig(C)\n",
    "        self.components=V\n",
    "        return np.dot(X,V)[:,:self.n]\n",
    "   \n",
    "    def transform(self,test):\n",
    "        output = np.dot(test-self.mean, self.components)\n",
    "        return output[:,:self.n]\n",
    "   \n",
    "        "
   ]
  },
  {
   "cell_type": "code",
   "execution_count": 57,
   "metadata": {},
   "outputs": [
    {
     "name": "stdout",
     "output_type": "stream",
     "text": [
      "(60000, 784)\n",
      "(60000, 150)\n"
     ]
    }
   ],
   "source": [
    "# from sklearn.decomposition import PCA\n",
    "print(train.shape)\n",
    "pca=PCA(n_components=150)\n",
    "train=pca.fit_transform(train)\n",
    "print(train.shape)\n",
    "test=pca.transform(test)"
   ]
  },
  {
   "cell_type": "code",
   "execution_count": 58,
   "metadata": {},
   "outputs": [
    {
     "name": "stdout",
     "output_type": "stream",
     "text": [
      "(10000, 150)\n"
     ]
    }
   ],
   "source": [
    "print(test.shape)"
   ]
  },
  {
   "cell_type": "code",
   "execution_count": 59,
   "metadata": {},
   "outputs": [],
   "source": [
    "fld_fmnist = FLDA()"
   ]
  },
  {
   "cell_type": "code",
   "execution_count": 60,
   "metadata": {},
   "outputs": [
    {
     "name": "stdout",
     "output_type": "stream",
     "text": [
      "(150,)\n"
     ]
    }
   ],
   "source": [
    "fld_fmnist.fit(train, y_train)"
   ]
  },
  {
   "cell_type": "code",
   "execution_count": 61,
   "metadata": {},
   "outputs": [
    {
     "name": "stdout",
     "output_type": "stream",
     "text": [
      "[2 2 1 ... 0 1 1]\n",
      "[2 2 1 ... 0 1 1]\n"
     ]
    }
   ],
   "source": [
    "y_pred = fld_fmnist.predict(test)\n",
    "print(y_pred)"
   ]
  },
  {
   "cell_type": "code",
   "execution_count": 62,
   "metadata": {},
   "outputs": [
    {
     "data": {
      "text/plain": [
       "2813"
      ]
     },
     "execution_count": 62,
     "metadata": {},
     "output_type": "execute_result"
    }
   ],
   "source": [
    "np.sum(y_pred == y_test)"
   ]
  },
  {
   "cell_type": "code",
   "execution_count": 63,
   "metadata": {},
   "outputs": [
    {
     "data": {
      "text/plain": [
       "(10000,)"
      ]
     },
     "execution_count": 63,
     "metadata": {},
     "output_type": "execute_result"
    }
   ],
   "source": [
    "y_pred.shape"
   ]
  },
  {
   "cell_type": "code",
   "execution_count": null,
   "metadata": {},
   "outputs": [],
   "source": []
  },
  {
   "cell_type": "code",
   "execution_count": null,
   "metadata": {},
   "outputs": [],
   "source": []
  }
 ],
 "metadata": {
  "kernelspec": {
   "display_name": "Python 3",
   "language": "python",
   "name": "python3"
  },
  "language_info": {
   "codemirror_mode": {
    "name": "ipython",
    "version": 3
   },
   "file_extension": ".py",
   "mimetype": "text/x-python",
   "name": "python",
   "nbconvert_exporter": "python",
   "pygments_lexer": "ipython3",
   "version": "3.7.0"
  }
 },
 "nbformat": 4,
 "nbformat_minor": 2
}
