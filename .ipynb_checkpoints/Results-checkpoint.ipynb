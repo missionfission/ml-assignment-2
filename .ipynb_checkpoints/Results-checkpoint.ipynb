{
 "cells": [
  {
   "cell_type": "code",
   "execution_count": 14,
   "metadata": {},
   "outputs": [],
   "source": [
    "import json\n",
    "import random\n",
    "import time\n",
    "import math\n",
    "from ast import literal_eval as make_tuple\n",
    "import numpy as np\n",
    "import pandas as pd\n",
    "# import psutil\n",
    "from utils import mnist_reader\n",
    "import pdb\n",
    "import matplotlib.pyplot as plt\n",
    "%matplotlib inline"
   ]
  },
  {
   "cell_type": "code",
   "execution_count": 15,
   "metadata": {},
   "outputs": [],
   "source": [
    "from sklearn.decomposition import PCA\n",
    "from sklearn.svm import LinearSVC \n",
    "from sklearn.svm import SVR\n",
    "from sklearn.linear_model import LinearRegression as Linear"
   ]
  },
  {
   "cell_type": "code",
   "execution_count": 21,
   "metadata": {},
   "outputs": [
    {
     "name": "stdout",
     "output_type": "stream",
     "text": [
      "(60000, 784)\n",
      "(60000, 40)\n"
     ]
    }
   ],
   "source": [
    "DATA_DIR='data/fashion/'\n",
    "train, y_train = mnist_reader.load_mnist(path=DATA_DIR, kind='train')\n",
    "test, y_test = mnist_reader.load_mnist(path=DATA_DIR, kind='t10k')\n",
    "\n",
    "# from sklearn.decomposition import PCA\n",
    "print(train.shape)\n",
    "pca=PCA(n_components=40)\n",
    "train=pca.fit_transform(train)\n",
    "print(train.shape)\n",
    "test=pca.transform(test)"
   ]
  },
  {
   "cell_type": "code",
   "execution_count": 26,
   "metadata": {},
   "outputs": [],
   "source": [
    "# clf = SVR('linear')\n",
    "clf=LinearSVC(C=0.01)\n",
    "clf.fit(train,y_train)\n",
    "preds_tr=clf.predict(train)\n",
    "preds=clf.predict(test)"
   ]
  },
  {
   "cell_type": "code",
   "execution_count": 27,
   "metadata": {},
   "outputs": [
    {
     "name": "stdout",
     "output_type": "stream",
     "text": [
      "[9 0 3 ... 3 3 5] [9 0 0 ... 3 0 5]\n"
     ]
    }
   ],
   "source": [
    "print(preds_tr,y_train)"
   ]
  },
  {
   "cell_type": "code",
   "execution_count": 28,
   "metadata": {},
   "outputs": [
    {
     "name": "stdout",
     "output_type": "stream",
     "text": [
      "[9 2 1 ... 3 1 5] [9 2 1 ... 8 1 5]\n"
     ]
    }
   ],
   "source": [
    "print(preds,y_test)"
   ]
  },
  {
   "cell_type": "code",
   "execution_count": 29,
   "metadata": {},
   "outputs": [
    {
     "name": "stdout",
     "output_type": "stream",
     "text": [
      "[0.6779] [0.68365]\n",
      "(0.7262296483959062, 0.6779, 0.6644355218344558)\n"
     ]
    }
   ],
   "source": [
    "acc_tr=np.sum(y_train==preds_tr)/y_train.shape\n",
    "acc=np.sum(y_test==preds)/y_test.shape\n",
    "print(acc,acc_tr)\n",
    "print(results.scores(y_test,preds))"
   ]
  },
  {
   "cell_type": "code",
   "execution_count": 16,
   "metadata": {},
   "outputs": [
    {
     "name": "stdout",
     "output_type": "stream",
     "text": [
      "       caseID  boarded  budget  memberCount preferredClass     sex  age\n",
      "0   111131089        0    2201            0       FIRST_AC  female    2\n",
      "1  2489059216        0    1775            3       FIRST_AC    male    0\n",
      "2  1565109576        1    1775            3       FIRST_AC  female    0\n",
      "3  1373075087        1    1775            3       FIRST_AC    male    3\n",
      "4  1598041082        1    1775            3       FIRST_AC  female    2\n"
     ]
    },
    {
     "name": "stderr",
     "output_type": "stream",
     "text": [
      "/home/khushal/anaconda3/envs/deeplearning/lib/python3.6/site-packages/ipykernel_launcher.py:8: SettingWithCopyWarning: \n",
      "A value is trying to be set on a copy of a slice from a DataFrame\n",
      "\n",
      "See the caveats in the documentation: http://pandas.pydata.org/pandas-docs/stable/indexing.html#indexing-view-versus-copy\n",
      "  \n",
      "/home/khushal/anaconda3/envs/deeplearning/lib/python3.6/site-packages/ipykernel_launcher.py:11: SettingWithCopyWarning: \n",
      "A value is trying to be set on a copy of a slice from a DataFrame\n",
      "\n",
      "See the caveats in the documentation: http://pandas.pydata.org/pandas-docs/stable/indexing.html#indexing-view-versus-copy\n",
      "  # This is added back by InteractiveShellApp.init_path()\n",
      "/home/khushal/anaconda3/envs/deeplearning/lib/python3.6/site-packages/ipykernel_launcher.py:12: SettingWithCopyWarning: \n",
      "A value is trying to be set on a copy of a slice from a DataFrame\n",
      "\n",
      "See the caveats in the documentation: http://pandas.pydata.org/pandas-docs/stable/indexing.html#indexing-view-versus-copy\n",
      "  if sys.path[0] == '':\n",
      "/home/khushal/anaconda3/envs/deeplearning/lib/python3.6/site-packages/ipykernel_launcher.py:16: SettingWithCopyWarning: \n",
      "A value is trying to be set on a copy of a slice from a DataFrame\n",
      "\n",
      "See the caveats in the documentation: http://pandas.pydata.org/pandas-docs/stable/indexing.html#indexing-view-versus-copy\n",
      "  app.launch_new_instance()\n"
     ]
    },
    {
     "name": "stdout",
     "output_type": "stream",
     "text": [
      "(1309, 5)\n"
     ]
    }
   ],
   "source": [
    "data = pd.read_csv('railwayBookingList.csv')\n",
    "\n",
    "print(data.head())\n",
    "\n",
    "\n",
    "dict_class={'FIRST_AC':0,'SECOND_AC':1,'THIRD_AC':2,'NO_PREF':3}\n",
    "for i in range(data.shape[0]):\n",
    "    data['preferredClass'][i]=dict_class[data['preferredClass'][i]]\n",
    "    \n",
    "\n",
    "data['sex'][(data['sex']=='male')]=0\n",
    "data['sex'][(data['sex']=='female')]=1\n",
    "\n",
    "sorted_b=np.sort(np.array(data['budget'].unique()))\n",
    "for x,i in enumerate(sorted_b):\n",
    "        data['budget'][data['budget']==i]=x\n",
    "\n",
    "data.head()\n",
    "\n",
    "y=data['boarded']\n",
    "X = data.as_matrix()\n",
    "X=X[:-1,2:]\n",
    "y=y[:-1]\n",
    "y=np.array(y)\n",
    "print(X.shape)\n",
    "\n",
    "from sklearn.model_selection import StratifiedShuffleSplit\n",
    "sss = StratifiedShuffleSplit(n_splits=1, test_size=0.2)\n",
    "sss.get_n_splits(X, y)\n",
    "for train_index, test_index in sss.split(X, y):\n",
    "    train, y_train = X[train_index], y[train_index]\n",
    "    test, y_test = X[test_index], y[test_index]\n",
    "\n",
    "y_train=np.array(y_train)\n",
    "train=np.array(train)\n",
    "test=np.array(test)\n",
    "y_test=np.array(y_test)\n"
   ]
  },
  {
   "cell_type": "code",
   "execution_count": 19,
   "metadata": {},
   "outputs": [
    {
     "name": "stdout",
     "output_type": "stream",
     "text": [
      "           x     levels\n",
      "0  37.552555  24.580169\n",
      "1  81.145268  19.187001\n",
      "2   0.273643  50.161268\n",
      "3  43.310435  26.110681\n",
      "4  67.253264  26.746186\n",
      "(10000, 4)\n",
      "(10000,)\n"
     ]
    },
    {
     "name": "stderr",
     "output_type": "stream",
     "text": [
      "/home/khushal/anaconda3/envs/deeplearning/lib/python3.6/site-packages/sklearn/cross_validation.py:41: DeprecationWarning: This module was deprecated in version 0.18 in favor of the model_selection module into which all the refactored classes and functions are moved. Also note that the interface of the new CV iterators are different from that of this module. This module will be removed in 0.20.\n",
      "  \"This module will be removed in 0.20.\", DeprecationWarning)\n"
     ]
    }
   ],
   "source": [
    "data = pd.read_csv('Assignment2Data_4.csv')\n",
    "\n",
    "print(data.head())\n",
    "\n",
    "data.head()\n",
    "\n",
    "X=np.array(data['x'])\n",
    "y=np.array(data['levels'])\n",
    "X=np.vstack((X,X**2,X**3,X**4)).T\n",
    "\n",
    "print(X.shape)\n",
    "\n",
    "print(y.shape)\n",
    "\n",
    "from sklearn.cross_validation import train_test_split\n",
    "\n",
    "tr_idx=np.random.randint(0,X.shape[0],(int)(.8*X.shape[0]))\n",
    "train,test,y_train,y_test=train_test_split(X, y, test_size=0.2,random_state=0)\n"
   ]
  },
  {
   "cell_type": "code",
   "execution_count": 5,
   "metadata": {
    "scrolled": true
   },
   "outputs": [
    {
     "name": "stdout",
     "output_type": "stream",
     "text": [
      "[['HEALTHY' 1.6315155608144196 -0.26444658130172355 2.534567146651425]\n",
      " ['SURGERY' 0.15395105426389907 1.419533481505174 1.3331207912724836]\n",
      " ['HEALTHY' 2.021729118164318 0.26204637889999405 2.8799717380508727]\n",
      " ...\n",
      " ['HEALTHY' 0.19320188275265227 0.36039894430698144 1.8676445668171464]\n",
      " ['HEALTHY' 1.6840959730399991 -0.02321819895892971 3.306257682435044]\n",
      " ['MEDICATION' 0.9752179047232428 2.305958926888452 0.22982688347681815]]\n",
      "(3000,)\n"
     ]
    }
   ],
   "source": [
    "data = pd.read_csv('Medical_data.csv')\n",
    "X = data.as_matrix()\n",
    "print(X)\n",
    "y=np.empty(X.shape[0])\n",
    "for i in range(X.shape[0]):\n",
    "    if(X[i,0]=='HEALTHY'):\n",
    "        y[i]=0\n",
    "    if(X[i,0]=='SURGERY'):\n",
    "        y[i]=1\n",
    "    if(X[i,0]=='MEDICATION'):\n",
    "        y[i]=2\n",
    "print(y.shape)\n",
    "X = X[:,1:4]\n",
    "y=np.array(y,dtype='int')"
   ]
  },
  {
   "cell_type": "code",
   "execution_count": 3,
   "metadata": {},
   "outputs": [
    {
     "name": "stdout",
     "output_type": "stream",
     "text": [
      "(3000,)\n"
     ]
    }
   ],
   "source": [
    "data_test = pd.read_csv('test_medical.csv')\n",
    "X_test = data_test.as_matrix()\n",
    "# print(X)\n",
    "y_test=np.empty(X_test.shape[0])\n",
    "for i in range(X_test.shape[0]):\n",
    "    if(X_test[i,0]=='HEALTHY'):\n",
    "        y_test[i]=0\n",
    "    if(X_test[i,0]=='SURGERY'):\n",
    "        y_test[i]=1\n",
    "    if(X_test[i,0]=='MEDICATION'):\n",
    "        y_test[i]=2\n",
    "print(y_test.shape)  \n",
    "X_test = X_test[:,1:4]\n",
    "y_test=np.array(y_test,dtype='int')"
   ]
  },
  {
   "cell_type": "code",
   "execution_count": 6,
   "metadata": {},
   "outputs": [
    {
     "name": "stdout",
     "output_type": "stream",
     "text": [
      "[0 1 0 ... 0 0 2]\n"
     ]
    }
   ],
   "source": [
    "train=X\n",
    "y_train=y\n",
    "test=X_test\n",
    "print(y_train)"
   ]
  },
  {
   "cell_type": "code",
   "execution_count": 7,
   "metadata": {},
   "outputs": [
    {
     "name": "stdout",
     "output_type": "stream",
     "text": [
      "(3000, 3) (3000,)\n"
     ]
    }
   ],
   "source": [
    "print(train.shape,y_train.shape)"
   ]
  },
  {
   "cell_type": "code",
   "execution_count": 12,
   "metadata": {},
   "outputs": [],
   "source": [
    "from sklearn.preprocessing import label_binarize\n",
    "from sklearn.metrics import roc_curve\n",
    "from scipy import interp\n",
    "class metrics:\n",
    "    def accuracy(self,y,preds):\n",
    "        return np.sum(y==preds)/y.shape[0]\n",
    "    \n",
    "    def scores(self,y_true,y_pred):\n",
    "        tp =(y_true == y_pred)\n",
    "        tp_sum=np.bincount(y_true[tp].astype(int))\n",
    "        pred_sum=np.bincount(y_pred.astype(int))\n",
    "        true_sum=np.bincount(y_true.astype(int))\n",
    "        precision = tp_sum/pred_sum\n",
    "        recall = tp_sum/true_sum\n",
    "        f_score = ((2) * precision * recall /\n",
    "                   (precision + recall))\n",
    "        precision = np.average(precision)\n",
    "        recall = np.average(recall)\n",
    "        f_score = np.average(f_score)\n",
    "\n",
    "        return precision, recall, f_score\n",
    "    \n",
    "    def binary_roc_curve(self,y,probs,*args,**kwargs):\n",
    "        y = (y == 1)\n",
    "\n",
    "        desc_score_indices = np.argsort(probs)[::-1]\n",
    "        probs = probs[desc_score_indices]\n",
    "        y = y[desc_score_indices]\n",
    "        distinct_value_indices = np.where(np.diff(probs))[0]\n",
    "        threshold_idxs = np.r_[distinct_value_indices, y.size - 1]\n",
    "\n",
    "        tps = y[threshold_idxs]\n",
    "        fps = 1 + threshold_idxs - tps\n",
    "        thresholds=y[threshold_idxs]\n",
    "        optimal_idxs = np.where(np.r_[True,np.logical_or(np.diff(fps, 2),np.diff(tps, 2)),True])[0]\n",
    "        fps = fps[optimal_idxs]\n",
    "        tps = tps[optimal_idxs]\n",
    "        thresholds = thresholds[optimal_idxs]\n",
    "        print(fps,tps)\n",
    "        fpr = fps / fps[-1]\n",
    "        tpr = tps / tps[-1]\n",
    "\n",
    "        return fpr, tpr, thresholds    \n",
    "        \n",
    "    def multiclass_roc_curve(self,y,y_score,ax,label,*args,**kwargs):\n",
    "        n_classes=y.max()+1\n",
    "#         print(n_classes)\n",
    "        if(n_classes==2):\n",
    "            y_test = np.array([1-y,y]).T\n",
    "            print(y_test.shape)\n",
    "        else:\n",
    "            y_test = label_binarize(y, classes=np.arange(n_classes))\n",
    "#         print(y_test)\n",
    "        fpr = dict()\n",
    "        thresholds=dict()\n",
    "        tpr = dict()\n",
    "        roc_auc = dict()\n",
    "#         print(y_test.shape,y_score.shape)\n",
    "        for i in range(n_classes):\n",
    "            fpr[i], tpr[i], _ = roc_curve(y_test[:, i], y_score[:, i])\n",
    "        all_fpr = np.unique(np.concatenate([fpr[i] for i in range(n_classes)]))\n",
    "        mean_tpr = np.zeros_like(all_fpr)\n",
    "        for i in range(n_classes):\n",
    "            mean_tpr += interp(all_fpr, fpr[i], tpr[i])\n",
    "        mean_tpr /= n_classes\n",
    "        fpr[\"macro\"] = all_fpr\n",
    "        tpr[\"macro\"] = mean_tpr\n",
    "        ax.plot(fpr[\"macro\"], tpr[\"macro\"],label=label, linestyle=':', linewidth=4)\n",
    "\n",
    "\n",
    "results=metrics()"
   ]
  },
  {
   "cell_type": "code",
   "execution_count": null,
   "metadata": {},
   "outputs": [],
   "source": []
  }
 ],
 "metadata": {
  "kernelspec": {
   "display_name": "Python 3",
   "language": "python",
   "name": "python3"
  },
  "language_info": {
   "codemirror_mode": {
    "name": "ipython",
    "version": 3
   },
   "file_extension": ".py",
   "mimetype": "text/x-python",
   "name": "python",
   "nbconvert_exporter": "python",
   "pygments_lexer": "ipython3",
   "version": "3.6.4"
  }
 },
 "nbformat": 4,
 "nbformat_minor": 2
}
